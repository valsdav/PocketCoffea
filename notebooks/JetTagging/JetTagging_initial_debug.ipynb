{
 "cells": [
  {
   "cell_type": "code",
   "execution_count": 28,
   "id": "f2cc1f59-99fc-4223-8803-27ea03eab1db",
   "metadata": {},
   "outputs": [],
   "source": [
    "import sys\n",
    "sys.path.append(\"../../\")\n",
    "\n",
    "import matplotlib.pyplot as plt\n",
    "from matplotlib.colors import LogNorm\n",
    "import mplhep as hep\n",
    "from coffea.util import load\n",
    "import numpy as np\n",
    "import pandas as pd\n",
    "import awkward as ak\n",
    "from coffea.nanoevents import NanoEventsFactory, NanoAODSchema\n",
    "\n",
    "from pprint import pprint \n",
    "hep.style.use(hep.style.ROOT)\n",
    "\n",
    "import hist"
   ]
  },
  {
   "cell_type": "code",
   "execution_count": 13,
   "id": "e3e4a559-a70d-453a-aa18-0347752b2f44",
   "metadata": {},
   "outputs": [
    {
     "data": {
      "text/plain": [
       "dict_keys(['sum_genweights', 'sumw', 'cutflow', 'seed_chunk', 'variables', 'columns', 'processing_metadata', 'scale_genweight'])"
      ]
     },
     "execution_count": 13,
     "metadata": {},
     "output_type": "execute_result"
    }
   ],
   "source": [
    "file = \"../output/parton_matching_dR03_v57/output.coffea\"\n",
    "out = load(file)\n",
    "out.keys()"
   ]
  },
  {
   "cell_type": "code",
   "execution_count": 14,
   "id": "1b6cfc5c-c207-4356-89ef-2d9bfb381875",
   "metadata": {},
   "outputs": [
    {
     "data": {
      "text/plain": [
       "dict_keys(['JetGood_eta', 'JetGood_pt', 'JetGood_phi', 'JetGood_btagDeepFlavB', 'BJetGood_eta', 'BJetGood_pt', 'BJetGood_phi', 'BJetGood_btagDeepFlavB', 'ElectronGood_eta', 'ElectronGood_pt', 'ElectronGood_phi', 'ElectronGood_etaSC', 'MuonGood_eta', 'MuonGood_pt', 'MuonGood_phi', 'nJets', 'nBJets', 'JetGood_eta_1', 'JetGood_pt_1', 'JetGood_phi_1', 'JetGood_btagDeepFlavB_1', 'JetGood_eta_2', 'JetGood_pt_2', 'JetGood_phi_2', 'JetGood_btagDeepFlavB_2', 'JetGood_eta_3', 'JetGood_pt_3', 'JetGood_phi_3', 'JetGood_btagDeepFlavB_3', 'JetGood_eta_4', 'JetGood_pt_4', 'JetGood_phi_4', 'JetGood_btagDeepFlavB_4', 'JetGood_eta_5', 'JetGood_pt_5', 'JetGood_phi_5', 'JetGood_btagDeepFlavB_5', 'bjet_eta_1', 'bjet_pt_1', 'bjet_phi_1', 'bjet_btagDeepFlavB_1', 'bjet_eta_2', 'bjet_pt_2', 'bjet_phi_2', 'bjet_btagDeepFlavB_2', 'bjet_eta_3', 'bjet_pt_3', 'bjet_phi_3', 'bjet_btagDeepFlavB_3', 'bjet_eta_4', 'bjet_pt_4', 'bjet_phi_4', 'bjet_btagDeepFlavB_4', 'bjet_eta_5', 'bjet_pt_5', 'bjet_phi_5', 'bjet_btagDeepFlavB_5', 'nPartons', 'nPartonsMatched', 'Parton_eta', 'Parton_pt', 'Parton_phi', 'Parton_pdgId', 'PartonMatched_eta', 'PartonMatched_pt', 'PartonMatched_phi', 'PartonMatched_dRMatchedJet', 'PartonMatched_pdgId', 'NJet_Nparton_total', 'NJet_Nparton_matched', 'Nparton_Nparton_matched', 'hist_ptComparison_parton_matching'])"
      ]
     },
     "execution_count": 14,
     "metadata": {},
     "output_type": "execute_result"
    }
   ],
   "source": [
    "out[\"variables\"].keys()"
   ]
  },
  {
   "cell_type": "code",
   "execution_count": 15,
   "id": "24b325b9-24dc-47f9-a761-827a197db5b8",
   "metadata": {},
   "outputs": [],
   "source": [
    "q = out[\"columns\"][\"4j\"][\"parton_prov\"][\"ttHTobb\"].value"
   ]
  },
  {
   "cell_type": "code",
   "execution_count": 16,
   "id": "eb656059-4137-41cf-b386-469d863887c9",
   "metadata": {},
   "outputs": [
    {
     "data": {
      "text/plain": [
       "array([7, 7, 7, 7, 7, 7, 5, 7, 5, 7, 7, 5, 7, 5, 7, 7, 7, 7, 7, 7, 7, 7,\n",
       "       5, 7, 7, 7, 7, 7, 5, 7, 7, 7, 7, 7, 5, 7, 7, 5, 5, 7, 7, 7, 7, 5,\n",
       "       7, 7, 7, 7, 7, 7, 7, 7, 7, 7, 7, 7, 7, 7, 5, 5, 7, 7, 7, 7, 7, 5,\n",
       "       5, 7, 7, 7, 5, 7, 7, 7, 7, 5, 7, 7, 7, 7, 7, 7, 7, 5, 7, 5, 7, 5,\n",
       "       7, 7, 7, 5, 7, 7, 5, 7, 5, 7, 7, 5])"
      ]
     },
     "execution_count": 16,
     "metadata": {},
     "output_type": "execute_result"
    }
   ],
   "source": [
    "out[\"columns\"][\"4j\"][\"npartons_tot\"][\"ttHTobb\"].value[0:100]"
   ]
  },
  {
   "cell_type": "code",
   "execution_count": 17,
   "id": "be05bbef-1d80-4a12-bfe6-9b0fd5463f8c",
   "metadata": {},
   "outputs": [
    {
     "data": {
      "text/plain": [
       "array([ 4,  2,  3, ...,  1,  1, -1])"
      ]
     },
     "execution_count": 17,
     "metadata": {},
     "output_type": "execute_result"
    }
   ],
   "source": [
    "q"
   ]
  },
  {
   "cell_type": "code",
   "execution_count": 18,
   "id": "c25c3e68-cd3a-4399-b280-71267e8cb53e",
   "metadata": {},
   "outputs": [
    {
     "data": {
      "text/plain": [
       "array([ 4,  2,  3,  2,  2,  1,  1,  4,  3,  2,  2,  2,  1,  1,  4,  2,  3,\n",
       "        2,  2,  1,  1,  4,  2,  3,  2,  2,  1,  1,  4,  2,  3,  2,  2,  1,\n",
       "        1,  4,  2,  3,  2,  2,  1,  1,  2,  3,  1,  1, -1,  4,  3,  2,  2,\n",
       "        2,  1,  1,  2,  3,  1,  1, -1,  4,  3,  2,  2,  2,  1,  1,  4,  2,\n",
       "        3,  2,  2,  1,  1,  2,  3,  1,  1, -1,  4,  2,  3,  2,  2,  1,  1,\n",
       "        2,  3,  1,  1, -1,  4,  2,  3,  2,  2,  1,  1,  4,  2,  3])"
      ]
     },
     "execution_count": 18,
     "metadata": {},
     "output_type": "execute_result"
    }
   ],
   "source": [
    "q[0:100]"
   ]
  },
  {
   "cell_type": "code",
   "execution_count": 19,
   "id": "f8a34312-9938-4794-a4e1-1b8cd51ff631",
   "metadata": {},
   "outputs": [
    {
     "data": {
      "text/plain": [
       "array([4, 5, 5, 6, 4, 6, 4, 5, 5, 6, 8, 4, 8, 6, 7, 9, 5, 4, 8, 5, 5, 6,\n",
       "       4, 8, 5, 6, 5, 7, 5, 8, 6, 6, 6, 7, 4, 5, 7, 4, 4, 9, 6, 8, 6, 4,\n",
       "       4, 5, 5, 7, 5, 6, 7, 9, 5, 7, 5, 5, 4, 5, 6, 7, 6, 8, 5, 7, 8, 4,\n",
       "       4, 5, 6, 5, 7, 7, 6, 7, 5, 7, 5, 7, 4, 6, 5, 5, 5, 9, 5, 5, 8, 5,\n",
       "       7, 5, 7, 4, 7, 5, 6, 5, 6, 5, 7, 9])"
      ]
     },
     "execution_count": 19,
     "metadata": {},
     "output_type": "execute_result"
    }
   ],
   "source": [
    "out[\"columns\"][\"4j\"][\"jet_pt_size\"][\"ttHTobb\"].value[0:100]"
   ]
  },
  {
   "cell_type": "code",
   "execution_count": 20,
   "id": "b0756bcc-4dcf-4d66-989e-fec6650fe25f",
   "metadata": {},
   "outputs": [
    {
     "data": {
      "text/plain": [
       "array([21,  5, -5, -3,  4,  5, -5, 21,  5, -5,  3, -4,  5, -5, 21,  5, -5,\n",
       "       -3,  4,  5, -5, 21,  5, -5, -3,  4,  5, -5,  2,  5, -5, -1,  2,  5,\n",
       "       -5,  1,  5, -5, -3,  4,  5, -5, 21,  5, -5,  5, -5, 21,  5, -5,  1,\n",
       "       -2,  5, -5, 21,  5, -5,  5, -5, 21,  5, -5,  3, -4,  5, -5, 21,  5,\n",
       "       -5, -1,  2,  5, -5, 21,  5, -5,  5, -5, 21,  5, -5, -3,  4,  5, -5,\n",
       "       21,  5, -5,  5, -5, 21,  5, -5, -1,  2,  5, -5, 21,  5, -5],\n",
       "      dtype=int32)"
      ]
     },
     "execution_count": 20,
     "metadata": {},
     "output_type": "execute_result"
    }
   ],
   "source": [
    "out[\"columns\"][\"4j\"][\"parton_pdgId\"][\"ttHTobb\"].value[0:100]"
   ]
  },
  {
   "cell_type": "code",
   "execution_count": null,
   "id": "c74b10ea-b7de-4d82-b558-28a1750aa064",
   "metadata": {},
   "outputs": [],
   "source": []
  },
  {
   "cell_type": "code",
   "execution_count": 93,
   "id": "d243dcbd-d713-42ba-981f-a2c1f45e4f5d",
   "metadata": {},
   "outputs": [
    {
     "data": {
      "text/plain": [
       "(array([4.4092e+04, 0.0000e+00, 0.0000e+00, 0.0000e+00, 0.0000e+00,\n",
       "        0.0000e+00, 0.0000e+00, 0.0000e+00, 0.0000e+00, 1.0000e+00]),\n",
       " array([-1.00000000e+00,  9.43472578e+12,  1.88694516e+13,  2.83041774e+13,\n",
       "         3.77389031e+13,  4.71736289e+13,  5.66083547e+13,  6.60430805e+13,\n",
       "         7.54778063e+13,  8.49125321e+13,  9.43472578e+13]),\n",
       " <BarContainer object of 10 artists>)"
      ]
     },
     "execution_count": 93,
     "metadata": {},
     "output_type": "execute_result"
    },
    {
     "data": {
      "image/png": "[encoded data removed]",
      "text/plain": [
       "<Figure size 720x720 with 1 Axes>"
      ]
     },
     "metadata": {
      "needs_background": "light"
     },
     "output_type": "display_data"
    }
   ],
   "source": [
    "plt.hist(out[\"columns\"][\"4j\"][\"parton_prov\"][\"ttHTobb\"].value.filled(-1))"
   ]
  },
  {
   "cell_type": "code",
   "execution_count": 83,
   "id": "90a14392-7a78-4e34-bba8-2a684657b22c",
   "metadata": {},
   "outputs": [
    {
     "ename": "KeyError",
     "evalue": "'ttHTobb'",
     "output_type": "error",
     "traceback": [
      "\u001b[0;31m---------------------------------------------------------------------------\u001b[0m",
      "\u001b[0;31mKeyError\u001b[0m                                  Traceback (most recent call last)",
      "Input \u001b[0;32mIn [83]\u001b[0m, in \u001b[0;36m<cell line: 1>\u001b[0;34m()\u001b[0m\n\u001b[0;32m----> 1\u001b[0m partopt \u001b[38;5;241m=\u001b[39m np\u001b[38;5;241m.\u001b[39mma\u001b[38;5;241m.\u001b[39mfilled(\u001b[43mout\u001b[49m\u001b[43m[\u001b[49m\u001b[38;5;124;43m\"\u001b[39;49m\u001b[38;5;124;43mcolumns\u001b[39;49m\u001b[38;5;124;43m\"\u001b[39;49m\u001b[43m]\u001b[49m\u001b[43m[\u001b[49m\u001b[38;5;124;43m\"\u001b[39;49m\u001b[38;5;124;43m4j\u001b[39;49m\u001b[38;5;124;43m\"\u001b[39;49m\u001b[43m]\u001b[49m\u001b[43m[\u001b[49m\u001b[38;5;124;43m\"\u001b[39;49m\u001b[38;5;124;43mparton_pt\u001b[39;49m\u001b[38;5;124;43m\"\u001b[39;49m\u001b[43m]\u001b[49m\u001b[43m[\u001b[49m\u001b[38;5;124;43m\"\u001b[39;49m\u001b[38;5;124;43mttHTobb\u001b[39;49m\u001b[38;5;124;43m\"\u001b[39;49m\u001b[43m]\u001b[49m\u001b[38;5;241m.\u001b[39mvalue, \u001b[38;5;241m-\u001b[39m\u001b[38;5;241m1\u001b[39m)\n",
      "\u001b[0;31mKeyError\u001b[0m: 'ttHTobb'"
     ]
    }
   ],
   "source": [
    "partopt = np.ma.filled(out[\"columns\"][\"4j\"][\"parton_pt\"][\"ttHTobb\"].value, -1)"
   ]
  },
  {
   "cell_type": "code",
   "execution_count": 16,
   "id": "074489f8-ae74-40fc-9f7b-b538db6b1df1",
   "metadata": {},
   "outputs": [
    {
     "data": {
      "text/plain": [
       "Hist(\n",
       "  StrCategory(['4j', '5j', '6j', '7j', '8j'], name='cat', label='Category'),\n",
       "  StrCategory(['nominal'], name='variation', label='Variation'),\n",
       "  StrCategory(['2018'], name='metadata.year', label='year'),\n",
       "  Regular(40, 0, 300, name='JetGoodMatched.pt', label='Jet Pt'),\n",
       "  Regular(40, 0, 300, name='PartonMatched.pt', label='Parton Pt'),\n",
       "  Regular(5, -2.4, 2.4, name='JetGoodMatched.eta', label='Jet $\\\\eta$'),\n",
       "  storage=Weight()) # Sum: WeightedSum(value=1.36371e+06, variance=1.36371e+06) (WeightedSum(value=1.40384e+06, variance=1.40384e+06) with flow)"
      ]
     },
     "execution_count": 16,
     "metadata": {},
     "output_type": "execute_result"
    }
   ],
   "source": [
    "out[\"variables\"][\"hist_ptComparison_parton_matching\"][\"ttHTobb\"]"
   ]
  },
  {
   "cell_type": "code",
   "execution_count": 8,
   "id": "21f4f0b3-caa9-4683-8759-04cd790ebe9a",
   "metadata": {},
   "outputs": [
    {
     "data": {
      "text/plain": [
       "column_accumulator(array([4, 5, 5, ..., 4, 8, 5]))"
      ]
     },
     "execution_count": 8,
     "metadata": {},
     "output_type": "execute_result"
    }
   ],
   "source": [
    "out[\"columns\"][\"4j\"][\"parton_pt_size\"][\"ttHTobb\"]"
   ]
  },
  {
   "cell_type": "code",
   "execution_count": 27,
   "id": "8943b4f9-8a8f-4b0a-b21c-2cec374758a4",
   "metadata": {},
   "outputs": [],
   "source": [
    "df_sig = pd.DataFrame({k: v['ttHTobb'].value for k, v in out[\"columns\"]['4j'].items() if \"size\" not in k })\n",
    "df_tt = pd.DataFrame({k: v['TTToSemiLeptonic'].value for k, v in out[\"columns\"]['4j'].items() if \"size\" not in k})"
   ]
  },
  {
   "cell_type": "code",
   "execution_count": 28,
   "id": "e0f34a82-42f0-4bc6-a92b-0cb605d46ea0",
   "metadata": {},
   "outputs": [
    {
     "data": {
      "text/html": [
       "<div>\n",
       "<style scoped>\n",
       "    .dataframe tbody tr th:only-of-type {\n",
       "        vertical-align: middle;\n",
       "    }\n",
       "\n",
       "    .dataframe tbody tr th {\n",
       "        vertical-align: top;\n",
       "    }\n",
       "\n",
       "    .dataframe thead th {\n",
       "        text-align: right;\n",
       "    }\n",
       "</style>\n",
       "<table border=\"1\" class=\"dataframe\">\n",
       "  <thead>\n",
       "    <tr style=\"text-align: right;\">\n",
       "      <th></th>\n",
       "      <th>parton_pt</th>\n",
       "      <th>parton_pdgId</th>\n",
       "      <th>jet_pt</th>\n",
       "      <th>jet_eta</th>\n",
       "      <th>parton_jet_dR</th>\n",
       "      <th>jet_btag</th>\n",
       "    </tr>\n",
       "  </thead>\n",
       "  <tbody>\n",
       "    <tr>\n",
       "      <th>0</th>\n",
       "      <td>1.894297e+02</td>\n",
       "      <td>5</td>\n",
       "      <td>1.842500e+02</td>\n",
       "      <td>4.700317e-01</td>\n",
       "      <td>2.967202e-02</td>\n",
       "      <td>9.980469e-01</td>\n",
       "    </tr>\n",
       "    <tr>\n",
       "      <th>1</th>\n",
       "      <td>2.084688e+02</td>\n",
       "      <td>-5</td>\n",
       "      <td>1.622500e+02</td>\n",
       "      <td>-1.172607e+00</td>\n",
       "      <td>2.786260e-02</td>\n",
       "      <td>6.772461e-01</td>\n",
       "    </tr>\n",
       "    <tr>\n",
       "      <th>2</th>\n",
       "      <td>6.416016e+01</td>\n",
       "      <td>4</td>\n",
       "      <td>1.345000e+02</td>\n",
       "      <td>6.423950e-02</td>\n",
       "      <td>1.015785e-01</td>\n",
       "      <td>4.785156e-01</td>\n",
       "    </tr>\n",
       "    <tr>\n",
       "      <th>3</th>\n",
       "      <td>1.320000e+02</td>\n",
       "      <td>5</td>\n",
       "      <td>1.308750e+02</td>\n",
       "      <td>-1.016113e+00</td>\n",
       "      <td>1.124108e-02</td>\n",
       "      <td>9.941406e-01</td>\n",
       "    </tr>\n",
       "    <tr>\n",
       "      <th>4</th>\n",
       "      <td>1.148438e+02</td>\n",
       "      <td>-4</td>\n",
       "      <td>1.165000e+02</td>\n",
       "      <td>-1.020813e-01</td>\n",
       "      <td>8.337682e-02</td>\n",
       "      <td>1.243591e-02</td>\n",
       "    </tr>\n",
       "    <tr>\n",
       "      <th>...</th>\n",
       "      <td>...</td>\n",
       "      <td>...</td>\n",
       "      <td>...</td>\n",
       "      <td>...</td>\n",
       "      <td>...</td>\n",
       "      <td>...</td>\n",
       "    </tr>\n",
       "    <tr>\n",
       "      <th>572229</th>\n",
       "      <td>2.142188e+02</td>\n",
       "      <td>-5</td>\n",
       "      <td>2.068750e+02</td>\n",
       "      <td>3.108521e-01</td>\n",
       "      <td>1.409740e-02</td>\n",
       "      <td>9.995117e-01</td>\n",
       "    </tr>\n",
       "    <tr>\n",
       "      <th>572230</th>\n",
       "      <td>8.459375e+01</td>\n",
       "      <td>5</td>\n",
       "      <td>7.656250e+01</td>\n",
       "      <td>4.522095e-01</td>\n",
       "      <td>2.146248e-02</td>\n",
       "      <td>6.473541e-03</td>\n",
       "    </tr>\n",
       "    <tr>\n",
       "      <th>572231</th>\n",
       "      <td>1.385071e-40</td>\n",
       "      <td>98842</td>\n",
       "      <td>3.055323e-39</td>\n",
       "      <td>-1.729236e+26</td>\n",
       "      <td>8.603066e-319</td>\n",
       "      <td>3.055323e-39</td>\n",
       "    </tr>\n",
       "    <tr>\n",
       "      <th>572232</th>\n",
       "      <td>0.000000e+00</td>\n",
       "      <td>0</td>\n",
       "      <td>0.000000e+00</td>\n",
       "      <td>3.089863e-41</td>\n",
       "      <td>2.261240e-319</td>\n",
       "      <td>0.000000e+00</td>\n",
       "    </tr>\n",
       "    <tr>\n",
       "      <th>572233</th>\n",
       "      <td>4.612500e+01</td>\n",
       "      <td>-5</td>\n",
       "      <td>3.189062e+01</td>\n",
       "      <td>-5.194092e-01</td>\n",
       "      <td>1.272817e-02</td>\n",
       "      <td>9.995117e-01</td>\n",
       "    </tr>\n",
       "  </tbody>\n",
       "</table>\n",
       "<p>572234 rows × 6 columns</p>\n",
       "</div>"
      ],
      "text/plain": [
       "           parton_pt  parton_pdgId        jet_pt       jet_eta  parton_jet_dR  \\\n",
       "0       1.894297e+02             5  1.842500e+02  4.700317e-01   2.967202e-02   \n",
       "1       2.084688e+02            -5  1.622500e+02 -1.172607e+00   2.786260e-02   \n",
       "2       6.416016e+01             4  1.345000e+02  6.423950e-02   1.015785e-01   \n",
       "3       1.320000e+02             5  1.308750e+02 -1.016113e+00   1.124108e-02   \n",
       "4       1.148438e+02            -4  1.165000e+02 -1.020813e-01   8.337682e-02   \n",
       "...              ...           ...           ...           ...            ...   \n",
       "572229  2.142188e+02            -5  2.068750e+02  3.108521e-01   1.409740e-02   \n",
       "572230  8.459375e+01             5  7.656250e+01  4.522095e-01   2.146248e-02   \n",
       "572231  1.385071e-40         98842  3.055323e-39 -1.729236e+26  8.603066e-319   \n",
       "572232  0.000000e+00             0  0.000000e+00  3.089863e-41  2.261240e-319   \n",
       "572233  4.612500e+01            -5  3.189062e+01 -5.194092e-01   1.272817e-02   \n",
       "\n",
       "            jet_btag  \n",
       "0       9.980469e-01  \n",
       "1       6.772461e-01  \n",
       "2       4.785156e-01  \n",
       "3       9.941406e-01  \n",
       "4       1.243591e-02  \n",
       "...              ...  \n",
       "572229  9.995117e-01  \n",
       "572230  6.473541e-03  \n",
       "572231  3.055323e-39  \n",
       "572232  0.000000e+00  \n",
       "572233  9.995117e-01  \n",
       "\n",
       "[572234 rows x 6 columns]"
      ]
     },
     "execution_count": 28,
     "metadata": {},
     "output_type": "execute_result"
    }
   ],
   "source": [
    "df_sig"
   ]
  },
  {
   "cell_type": "code",
   "execution_count": 31,
   "id": "c1400471-5e2a-4034-85a3-58b64707dcb6",
   "metadata": {},
   "outputs": [
    {
     "data": {
      "text/plain": [
       "Text(0.1, 0.9, 'TTToSemiLeptonic')"
      ]
     },
     "execution_count": 31,
     "metadata": {},
     "output_type": "execute_result"
    },
    {
     "data": {
      "image/png": "[encoded data removed]",
      "text/plain": [
       "<Figure size 1400x600 with 2 Axes>"
      ]
     },
     "metadata": {
      "needs_background": "light"
     },
     "output_type": "display_data"
    }
   ],
   "source": [
    "fig,( ax,ay) = plt.subplots(1, 2, figsize=(14, 6), dpi=100)\n",
    "plt.subplots_adjust(wspace=0.3)\n",
    "\n",
    "ax.hist2d(df_sig.jet_btag, df_sig.parton_pdgId, bins=(30,26), range=((0,1),(-5,21)), norm=LogNorm())\n",
    "ax.set_xlabel(\"Jet btag\")\n",
    "ax.set_ylabel(\"Parton pdgId\")\n",
    "\n",
    "ay.hist2d(df_tt.jet_btag, df_tt.parton_pdgId, bins=(30,26), range=((0,1),(-5,21)), norm=LogNorm())\n",
    "ay.set_xlabel(\"Jet btag\")\n",
    "ay.set_ylabel(\"Parton pdgId\")\n",
    "\n",
    "ax.text(0.1, 0.9, \"ttHTobb\", transform=ax.transAxes, fontsize=18)\n",
    "ay.text(0.1, 0.9, \"TTToSemiLeptonic\", transform=ay.transAxes, fontsize=18)"
   ]
  },
  {
   "cell_type": "markdown",
   "id": "e669c4e8-bc39-4300-bdae-8098afc70121",
   "metadata": {},
   "source": [
    "# Understanding the origin of each parton"
   ]
  },
  {
   "cell_type": "code",
   "execution_count": 107,
   "id": "b33a6da0-dff4-4124-8cb1-6e5408253edc",
   "metadata": {},
   "outputs": [],
   "source": [
    "filename = \"/pnfs/psi.ch/cms/trivcat/store/user/mmarcheg/ttHbb/store/mc/RunIISummer20UL18NanoAODv9/ttHTobb_M125_TuneCP5_13TeV-powheg-pythia8/NANOAODSIM/106X_upgrade2018_realistic_v16_L1v1-v2/2500000/6BF93845-49D5-2547-B860-4F7601074715.root\"\n",
    "#filename = \"/pnfs/psi.ch/cms/trivcat/store/user/mmarcheg/ttHbb/store/mc/RunIISummer20UL18NanoAODv9/TTTo2L2Nu_TuneCP5_13TeV-powheg-pythia8/NANOAODSIM/106X_upgrade2018_realistic_v16_L1v1-v1/130000/44187D37-0301-3942-A6F7-C723E9F4813D.root\"\n",
    "#events = NanoEventsFactory.from_root(filename, schemaclass=NanoAODSchema).events()\n",
    "events = NanoEventsFactory.from_root(filename, schemaclass=NanoAODSchema, entry_stop=200000).events()"
   ]
  },
  {
   "cell_type": "markdown",
   "id": "5c1240d6-688d-4c11-823f-75f0fd3187bd",
   "metadata": {},
   "source": [
    "## Check partons inclusively"
   ]
  },
  {
   "cell_type": "code",
   "execution_count": 108,
   "id": "f3235ab8-6a33-4bb2-845a-108fe7d24b80",
   "metadata": {},
   "outputs": [],
   "source": [
    "isOutgoing = events.LHEPart.status == 1\n",
    "noHiggs = events.LHEPart.pdgId != 25\n",
    "part = events.LHEPart[isOutgoing & noHiggs]"
   ]
  },
  {
   "cell_type": "code",
   "execution_count": 109,
   "id": "8394c24f-53ea-4d44-9d4f-1fe7b5333a13",
   "metadata": {},
   "outputs": [
    {
     "data": {
      "image/png": "[encoded data removed]",
      "text/plain": [
       "<Figure size 720x720 with 1 Axes>"
      ]
     },
     "metadata": {
      "needs_background": "light"
     },
     "output_type": "display_data"
    }
   ],
   "source": [
    "plt.hist(ak.num(part))\n",
    "plt.yscale(\"log\")"
   ]
  },
  {
   "cell_type": "code",
   "execution_count": 110,
   "id": "5623c54a-c12c-4930-915e-ecb617783a84",
   "metadata": {},
   "outputs": [
    {
     "data": {
      "text/plain": [
       "[[21, 5, -5, -13, 14, 3, -4],\n",
       " [21, 5, -5, -3, 4, 3, -2],\n",
       " [21, 5, -5, -15, 16, 3, -4],\n",
       " [21, 5, -5, -3, 4, 11, -12],\n",
       " [2, 5, -5, -3, 4, 3, -4],\n",
       " [2, 5, -5, -15, 16, 15, -16],\n",
       " [21, 5, -5, -1, 2, 13, -14],\n",
       " [21, 5, -5, -3, 4, 1, -2],\n",
       " [21, 5, -5, -3, 4, 1, -2],\n",
       " [21, 5, -5, -1, 2, 1, -2]]"
      ]
     },
     "execution_count": 110,
     "metadata": {},
     "output_type": "execute_result"
    }
   ],
   "source": [
    "part.pdgId[0:10].tolist()"
   ]
  },
  {
   "cell_type": "code",
   "execution_count": 111,
   "id": "f6f79e1b-b038-4918-ae41-86c9db0aa5be",
   "metadata": {},
   "outputs": [],
   "source": [
    "isParton = (abs(part.pdgId) < 6) | (part.pdgId == 21) \n",
    "\n",
    "partq = part[isParton]"
   ]
  },
  {
   "cell_type": "code",
   "execution_count": 112,
   "id": "c4fb6713-be55-41fa-8d72-aae6bd4c1b26",
   "metadata": {},
   "outputs": [
    {
     "data": {
      "image/png": "[encoded data removed]",
      "text/plain": [
       "<Figure size 720x720 with 1 Axes>"
      ]
     },
     "metadata": {
      "needs_background": "light"
     },
     "output_type": "display_data"
    }
   ],
   "source": [
    "plt.hist(ak.num(partq))\n",
    "plt.yscale(\"log\")"
   ]
  },
  {
   "cell_type": "markdown",
   "id": "f0e76e0a-1c19-45e7-8256-e849c3506948",
   "metadata": {},
   "source": [
    "So this is fully hadronic (7,6), semileptonic (5,4) and fully leptonic (3)"
   ]
  },
  {
   "cell_type": "markdown",
   "id": "3cbc2311-3e44-4cae-a09f-bdc776e9152c",
   "metadata": {},
   "source": [
    "### Semileptonic reco selection"
   ]
  },
  {
   "cell_type": "code",
   "execution_count": 40,
   "id": "f400f1dc-d250-4aa2-baa7-7004c8b56e1f",
   "metadata": {},
   "outputs": [],
   "source": [
    "from PocketCoffea.lib.leptons import lepton_selection\n",
    "from PocketCoffea.parameters.object_preselection import object_preselection"
   ]
  },
  {
   "cell_type": "code",
   "execution_count": 113,
   "id": "4a43c7b7-d9fb-489a-bf2a-4c6efbab489b",
   "metadata": {},
   "outputs": [],
   "source": [
    "electron_etaSC = events.Electron.eta + events.Electron.deltaEtaSC\n",
    "events[\"Electron\"] = ak.with_field(events.Electron, electron_etaSC, \"etaSC\")\n",
    "events[\"ElectronGood\"] = lepton_selection(events, \"Electron\", \"semileptonic\")\n",
    "events[\"MuonGood\"]     = lepton_selection(events, \"Muon\", \"semileptonic\")\n",
    "leptons = ak.with_name( ak.concatenate( (events.MuonGood,events.ElectronGood), axis=1 ), name='PtEtaPhiMCandidate' )\n",
    "events[\"LeptonGood\"]   = leptons[ak.argsort(leptons.pt, ascending=False)]"
   ]
  },
  {
   "cell_type": "markdown",
   "id": "047c5dec-f10d-4393-8c22-95f3cfac44df",
   "metadata": {},
   "source": [
    "Investigate the signal categories in the LHE"
   ]
  },
  {
   "cell_type": "code",
   "execution_count": 121,
   "id": "295a953d-6836-419e-a359-7574c7b8da54",
   "metadata": {},
   "outputs": [
    {
     "data": {
      "text/plain": [
       "(array([30142.,     0.,     0.,     0.,     0., 29038.,     0.,     0.,\n",
       "            0.,  6820.]),\n",
       " array([0. , 0.4, 0.8, 1.2, 1.6, 2. , 2.4, 2.8, 3.2, 3.6, 4. ]),\n",
       " <BarContainer object of 10 artists>)"
      ]
     },
     "execution_count": 121,
     "metadata": {},
     "output_type": "execute_result"
    },
    {
     "data": {
      "image/png": "[encoded data removed]",
      "text/plain": [
       "<Figure size 720x720 with 1 Axes>"
      ]
     },
     "metadata": {
      "needs_background": "light"
     },
     "output_type": "display_data"
    }
   ],
   "source": [
    "plt.hist(ak.sum( (abs(events.LHEPart.pdgId) >=11)&(abs(events.LHEPart.pdgId) <19), axis=1))"
   ]
  },
  {
   "cell_type": "code",
   "execution_count": 127,
   "id": "977a12cb-bd2f-4d16-9159-815922765b6d",
   "metadata": {},
   "outputs": [],
   "source": [
    "semilep_lhe = (ak.sum( (abs(events.LHEPart.pdgId) >=11)&(abs(events.LHEPart.pdgId) <19), axis=1)==2)\n",
    "dilep_lhe = (ak.sum( (abs(events.LHEPart.pdgId) >=11)&(abs(events.LHEPart.pdgId) <19), axis=1)==4)\n",
    "had_lhe = (ak.sum( (abs(events.LHEPart.pdgId) >=11)&(abs(events.LHEPart.pdgId) <19), axis=1)==0)"
   ]
  },
  {
   "cell_type": "code",
   "execution_count": null,
   "id": "c0028604-82c0-4261-a95d-01f8599ddbb4",
   "metadata": {},
   "outputs": [],
   "source": []
  },
  {
   "cell_type": "code",
   "execution_count": 134,
   "id": "382d33e1-242c-4065-95b9-c68e6a52965a",
   "metadata": {},
   "outputs": [
    {
     "data": {
      "image/png": "[encoded data removed]",
      "text/plain": [
       "<Figure size 720x720 with 1 Axes>"
      ]
     },
     "metadata": {
      "needs_background": "light"
     },
     "output_type": "display_data"
    }
   ],
   "source": [
    "plt.hist(ak.num(events.LeptonGood), histtype=\"step\", linewidth=2, label=\"all\", bins=4, range=(0, 4))\n",
    "plt.hist(ak.num(events.LeptonGood[semilep_lhe]), histtype=\"step\", linewidth=2, label=\"semilep\", bins=4, range=(0, 4))\n",
    "plt.hist(ak.num(events.LeptonGood[dilep_lhe]), histtype=\"step\", linewidth=2, label=\"dilep\", bins=4, range=(0, 4))\n",
    "plt.hist(ak.num(events.LeptonGood[had_lhe]), histtype=\"step\", linewidth=2, label=\"had\", bins=4, range=(0, 4))\n",
    "#plt.yscale(\"log\")\n",
    "plt.legend()\n",
    "plt.xlabel(\"N good leptons\")\n",
    "plt.savefig(\"plots/number_good_lepton_lhe_cat.pdf\")\n",
    "plt.savefig(\"plots/number_good_lepton_lhe_cat.png\")"
   ]
  },
  {
   "cell_type": "code",
   "execution_count": 135,
   "id": "cda57ffd-ea9b-41f9-9443-86ab1154a73b",
   "metadata": {},
   "outputs": [
    {
     "data": {
      "image/png": "[encoded data removed]",
      "text/plain": [
       "<Figure size 720x720 with 1 Axes>"
      ]
     },
     "metadata": {
      "needs_background": "light"
     },
     "output_type": "display_data"
    }
   ],
   "source": [
    "plt.hist(ak.num(events.LeptonGood), histtype=\"step\", linewidth=2, label=\"all\", bins=4, range=(0, 4))\n",
    "plt.hist(ak.num(events.LeptonGood[semilep_lhe]), histtype=\"step\", linewidth=2, label=\"semilep\", bins=4, range=(0, 4))\n",
    "plt.hist(ak.num(events.LeptonGood[dilep_lhe]), histtype=\"step\", linewidth=2, label=\"dilep\", bins=4, range=(0, 4))\n",
    "plt.hist(ak.num(events.LeptonGood[had_lhe]), histtype=\"step\", linewidth=2, label=\"had\", bins=4, range=(0, 4))\n",
    "plt.yscale(\"log\")\n",
    "plt.legend()\n",
    "plt.xlabel(\"N good leptons\")\n",
    "plt.savefig(\"plots/number_good_lepton_lhe_cat_log.pdf\")\n",
    "plt.savefig(\"plots/number_good_lepton_lhe_cat_log.png\")"
   ]
  },
  {
   "cell_type": "code",
   "execution_count": 141,
   "id": "a85aaf95-2910-499c-b22d-90a3a26b9d68",
   "metadata": {},
   "outputs": [],
   "source": [
    "events[\"nMuonGood\"]     = ak.num(events.MuonGood)\n",
    "events[\"nElectronGood\"] = ak.num(events.ElectronGood)\n",
    "events[\"nLepGood\"]      = events[\"nMuonGood\"] + events[\"nElectronGood\"]"
   ]
  },
  {
   "cell_type": "code",
   "execution_count": 144,
   "id": "697982d0-a64b-4b57-bbe8-6f157e51e81e",
   "metadata": {},
   "outputs": [],
   "source": [
    "has_one_electron = (events.nElectronGood == 1)\n",
    "has_one_muon     = (events.nMuonGood == 1)"
   ]
  },
  {
   "cell_type": "code",
   "execution_count": 148,
   "id": "8cd9414a-30e9-4b7d-b7a9-4ccc4be7a8df",
   "metadata": {},
   "outputs": [],
   "source": [
    "mask =  ((events.nLepGood == 1) &\n",
    "              # Here we properly distinguish between leading muon and leading electron\n",
    "             ( (has_one_electron & (ak.firsts(events.LeptonGood.pt) > 29)) |\n",
    "               (has_one_muon & (ak.firsts(events.LeptonGood.pt) > 26)) ))"
   ]
  },
  {
   "cell_type": "code",
   "execution_count": 150,
   "id": "855e6210-f3f6-4640-a2be-512cdc0417c4",
   "metadata": {},
   "outputs": [
    {
     "data": {
      "text/plain": [
       "<Record ... nLepGood: 66000} type='{\"SoftActivityJetHT5\": int64, \"PV\": int64, \"C...'>"
      ]
     },
     "execution_count": 150,
     "metadata": {},
     "output_type": "execute_result"
    }
   ],
   "source": [
    "ak.num(events, axis=0)"
   ]
  },
  {
   "cell_type": "code",
   "execution_count": 154,
   "id": "18b54b6b-fcf3-432a-91fc-aea448c4a34e",
   "metadata": {},
   "outputs": [
    {
     "data": {
      "image/png": "[encoded data removed]",
      "text/plain": [
       "<Figure size 720x720 with 1 Axes>"
      ]
     },
     "metadata": {
      "needs_background": "light"
     },
     "output_type": "display_data"
    }
   ],
   "source": [
    "plt.hist(ak.num(events.ElectronGood), histtype=\"step\", linewidth=2, label=\"all\", bins=4, range=(0, 4))\n",
    "plt.hist(ak.num(events.ElectronGood[semilep_lhe]), histtype=\"step\", linewidth=2, label=\"semilep\", bins=4, range=(0, 4))\n",
    "plt.hist(ak.num(events.ElectronGood[dilep_lhe]), histtype=\"step\", linewidth=2, label=\"dilep\", bins=4, range=(0, 4))\n",
    "plt.hist(ak.num(events.ElectronGood[had_lhe]), histtype=\"step\", linewidth=2, label=\"had\", bins=4, range=(0, 4))\n",
    "#plt.yscale(\"log\")\n",
    "plt.legend()\n",
    "plt.xlabel(\"N good electrons\")\n",
    "plt.savefig(\"plots/number_good_ele_lhe_cat.pdf\")\n",
    "plt.savefig(\"plots/number_good_ele_lhe_cat.png\")"
   ]
  },
  {
   "cell_type": "code",
   "execution_count": 155,
   "id": "250204ce-2844-4cc7-a3d5-a0d2ee375191",
   "metadata": {},
   "outputs": [
    {
     "data": {
      "image/png": "[encoded data removed]",
      "text/plain": [
       "<Figure size 720x720 with 1 Axes>"
      ]
     },
     "metadata": {
      "needs_background": "light"
     },
     "output_type": "display_data"
    }
   ],
   "source": [
    "plt.hist(ak.num(events.MuonGood), histtype=\"step\", linewidth=2, label=\"all\", bins=4, range=(0, 4))\n",
    "plt.hist(ak.num(events.MuonGood[semilep_lhe]), histtype=\"step\", linewidth=2, label=\"semilep\", bins=4, range=(0, 4))\n",
    "plt.hist(ak.num(events.MuonGood[dilep_lhe]), histtype=\"step\", linewidth=2, label=\"dilep\", bins=4, range=(0, 4))\n",
    "plt.hist(ak.num(events.MuonGood[had_lhe]), histtype=\"step\", linewidth=2, label=\"had\", bins=4, range=(0, 4))\n",
    "#plt.yscale(\"log\")\n",
    "plt.legend()\n",
    "plt.xlabel(\"N good muons\")\n",
    "plt.savefig(\"plots/number_good_muon_lhe_cat.pdf\")\n",
    "plt.savefig(\"plots/number_good_muon_lhe_cat.png\")"
   ]
  },
  {
   "cell_type": "code",
   "execution_count": 159,
   "id": "76793b04-f685-49b4-9405-fc450b457ae0",
   "metadata": {},
   "outputs": [
    {
     "name": "stdout",
     "output_type": "stream",
     "text": [
      "Total events with 1 good lepton 16433\n",
      "Total events with 1 good lepton, semilep 12634\n",
      "Total events with 1 good lepton, dilep 3344\n",
      "Total events with 1 good lepton, had 455\n"
     ]
    }
   ],
   "source": [
    "print(\"Total events with 1 good lepton\" , ak.sum(ak.num(events.LeptonGood)==1))\n",
    "print(\"Total events with 1 good lepton, semilep\" , ak.sum(ak.num(events.LeptonGood[semilep_lhe])==1))\n",
    "print(\"Total events with 1 good lepton, dilep\" , ak.sum(ak.num(events.LeptonGood[dilep_lhe])==1))\n",
    "print(\"Total events with 1 good lepton, had\" , ak.sum(ak.num(events.LeptonGood[had_lhe])==1))"
   ]
  },
  {
   "cell_type": "code",
   "execution_count": 162,
   "id": "509e1e51-5c78-4d4d-a2ac-bbbfea6f1f0a",
   "metadata": {},
   "outputs": [
    {
     "data": {
      "text/plain": [
       "0.20349297145986733"
      ]
     },
     "execution_count": 162,
     "metadata": {},
     "output_type": "execute_result"
    }
   ],
   "source": [
    "3344 / 16433"
   ]
  },
  {
   "cell_type": "code",
   "execution_count": null,
   "id": "04e6702b-7845-4b3c-891a-0dcdea2e1288",
   "metadata": {},
   "outputs": [],
   "source": [
    "has_one_electron = (events.nElectronGood == 1)\n",
    "has_one_muon     = (events.nMuonGood == 1)\n",
    "\n",
    "mask = ( (events.nLepGood == 1) &\n",
    "              # Here we properly distinguish between leading muon and leading electron\n",
    "             ( (has_one_electron & (ak.firsts(events.LeptonGood.pt) > params[\"pt_leading_electron\"][year])) |\n",
    "               (has_one_muon & (ak.firsts(events.LeptonGood.pt) > params[\"pt_leading_muon\"][year])) ) &\n",
    "             (events.nJetGood >= params[\"njet\"]) &\n",
    "             (events.nBJetGood >= params[\"nbjet\"]) &\n",
    "             (MET.pt > params[\"met\"]) )\n"
   ]
  },
  {
   "cell_type": "code",
   "execution_count": null,
   "id": "dd7b0c87-4d51-4260-a0f7-8b1035d8dbdf",
   "metadata": {},
   "outputs": [],
   "source": []
  },
  {
   "cell_type": "code",
   "execution_count": 99,
   "id": "18816ca0-42a4-41a7-abb8-8395c1f121a0",
   "metadata": {},
   "outputs": [],
   "source": []
  },
  {
   "cell_type": "code",
   "execution_count": 91,
   "id": "c65aefa3-d32a-4236-9f2c-9d522265692a",
   "metadata": {},
   "outputs": [
    {
     "data": {
      "text/plain": [
       "Text(0.5, 1.0, 'Electron selection')"
      ]
     },
     "execution_count": 91,
     "metadata": {},
     "output_type": "execute_result"
    },
    {
     "data": {
      "image/png": "[encoded data removed]",
      "text/plain": [
       "<Figure size 720x720 with 1 Axes>"
      ]
     },
     "metadata": {
      "needs_background": "light"
     },
     "output_type": "display_data"
    }
   ],
   "source": [
    "plt.hist(ak.num(events.Electron[ele]), range=(0,8),bins=9, histtype=\"step\", label=\"inclusive\")\n",
    "plt.hist(ak.num(events.Electron[ele&passes_eta]), range=(0,8),bins=9, histtype=\"step\", label=\"Eta cut\")\n",
    "plt.hist(ak.num(events.Electron[ele&passes_eta&passes_pt]), range=(0,8),bins=9, histtype=\"step\", label=\"Pt cut\")\n",
    "plt.hist(ak.num(events.Electron[ele&passes_eta&passes_pt&passes_SC]), range=(0,8),bins=9, histtype=\"step\", label=\"crack cut\")\n",
    "plt.hist(ak.num(events.Electron[ele&passes_eta&passes_pt&passes_SC&passes_id]), range=(0,8),bins=9, histtype=\"step\", label=\"ID\")\n",
    "plt.hist(ak.num(events.Electron[ele&passes_eta&passes_pt&passes_SC&passes_id&passes_iso]), range=(0,8),bins=9, histtype=\"step\", label=\"Iso\")\n",
    "#plt.hist(ak.num(events.ElectronGood), range=(0,8),bins=9, histtype=\"step\")\n",
    "plt.yscale(\"log\")\n",
    "plt.legend()\n",
    "plt.title(\"Electron selection\")"
   ]
  },
  {
   "cell_type": "code",
   "execution_count": null,
   "id": "5ba9419b-6808-4fc0-bd5e-dc11e0ec8f18",
   "metadata": {},
   "outputs": [],
   "source": []
  },
  {
   "cell_type": "code",
   "execution_count": 37,
   "id": "75d9de78-6a59-475e-9da0-99a281e00d99",
   "metadata": {},
   "outputs": [
    {
     "data": {
      "text/plain": [
       "(array([44183.,     0.,     0.,     0.,     0.,  5637.,     0.,     0.,\n",
       "            0.,   180.]),\n",
       " array([0. , 0.2, 0.4, 0.6, 0.8, 1. , 1.2, 1.4, 1.6, 1.8, 2. ]),\n",
       " <BarContainer object of 10 artists>)"
      ]
     },
     "execution_count": 37,
     "metadata": {},
     "output_type": "execute_result"
    },
    {
     "data": {
      "image/png": "[encoded data removed]",
      "text/plain": [
       "<Figure size 720x720 with 1 Axes>"
      ]
     },
     "metadata": {
      "needs_background": "light"
     },
     "output_type": "display_data"
    }
   ],
   "source": [
    "plt.hist(ak.num(events.ElectronGood))"
   ]
  },
  {
   "cell_type": "code",
   "execution_count": null,
   "id": "8d2d152f-db0d-4f36-9882-6c81617e28fb",
   "metadata": {},
   "outputs": [],
   "source": [
    "# Build masks for selection of muons, electrons, jets, fatjets\n",
    "        self.events[\"MuonGood\"]     = lepton_selection(self.events, \"Muon\", self.cfg.finalstate)\n",
    "        self.events[\"ElectronGood\"] = lepton_selection(self.events, \"Electron\", self.cfg.finalstate)\n",
    "        leptons = ak.with_name( ak.concatenate( (self.events.MuonGood, self.events.ElectronGood), axis=1 ), name='PtEtaPhiMCandidate' )\n",
    "        self.events[\"LeptonGood\"]   = leptons[ak.argsort(leptons.pt, ascending=False)]\n",
    "        self.events[\"JetGood\"], self.jetGoodMask = jet_selection(self.events, \"Jet\", self.cfg.finalstate)\n",
    "        self.events[\"BJetGood\"] = btagging(self.events[\"JetGood\"], self._btag)\n"
   ]
  },
  {
   "cell_type": "markdown",
   "id": "1e7444eb-dd77-41e4-9417-00431d8ddcc3",
   "metadata": {},
   "source": [
    "## Parton matching investigation\n",
    "How to match the parton with the original particle flavour"
   ]
  },
  {
   "cell_type": "code",
   "execution_count": 166,
   "id": "6189cc8d-6160-4a89-8935-dacaab4aa86d",
   "metadata": {},
   "outputs": [],
   "source": [
    "from PocketCoffea.lib.deltaR_matching import object_matching"
   ]
  },
  {
   "cell_type": "code",
   "execution_count": 167,
   "id": "4949b15e-f074-4f5a-8a2e-0eca88a088af",
   "metadata": {},
   "outputs": [],
   "source": [
    "isOutgoing = events.LHEPart.status == 1\n",
    "isParton = (abs(events.LHEPart.pdgId) < 6) | \\\n",
    "            (events.LHEPart.pdgId == 21) \n",
    "\n",
    "quarks = events.LHEPart[isOutgoing & (events.LHEPart.pdgId!=25)]\n",
    "        \n",
    "# # Select b-quarks at Gen level, coming from H->bb decay\n",
    "higgs = events.GenPart[(events.GenPart.pdgId == 25) & (events.GenPart.hasFlags(['fromHardProcess']))]\n",
    "higgs =  higgs[ak.num(higgs.childrenIdxG, axis=2) == 2]\n",
    "higgs_partons = ak.with_field(ak.flatten(higgs.children, axis=2), 25, \"from_part\")\n",
    "quarks = ak.with_name(ak.concatenate( (quarks, higgs_partons) , axis=1) , name='PtEtaPhiMCandidate')\n",
    "# Sort b-quarks by pt\n",
    "#quarks = ak.with_name(quarks[ak.argsort(quarks.pt, ascending=False)], name='PtEtaPhiMCandidate')\n",
    "\n",
    "semilep = ak.sum((abs(quarks.pdgId) > 10)&(quarks.pdgId < 21), axis=1)\n",
    "\n",
    "semilep_partons = quarks[semilep==2]\n",
    "events = events[semilep==2]\n",
    "    # # Calling our general object_matching function.\n",
    "    # # The output is an awkward array with the shape of the second argument and None where there is no matching.\n",
    "    # # So, calling like this, we will get out an array of matched_quarks with the dimension of the JetGood. \n",
    "    # matched_quarks, matched_jets, deltaR_matched = object_matching(quarks, self.events.JetGood, dr_min=self.dr_min)"
   ]
  },
  {
   "cell_type": "markdown",
   "id": "a679241f-3342-4f30-8765-4ee209f1f390",
   "metadata": {},
   "source": [
    "Request only one electron/muon --> semileptonic"
   ]
  },
  {
   "cell_type": "code",
   "execution_count": 168,
   "id": "c81c5ef2-6d23-4e2f-8bd6-db26468f7b41",
   "metadata": {},
   "outputs": [
    {
     "data": {
      "text/plain": [
       "[[21, 5, -5, -13, 14, 3, -4, 5, -5],\n",
       " [21, 5, -5, -15, 16, 3, -4, 5, -5],\n",
       " [21, 5, -5, -3, 4, 11, -12, 5, -5],\n",
       " [21, 5, -5, -1, 2, 13, -14, 5, -5],\n",
       " [21, 5, -5, -15, 16, 3, -4, 5, -5],\n",
       " [2, 5, -5, -13, 14, 3, -4, 5, -5],\n",
       " [2, 5, -5, -13, 14, 3, -4, 5, -5],\n",
       " [21, 5, -5, -1, 2, 15, -16, 5, -5],\n",
       " [-2, 5, -5, -3, 4, 13, -14, 5, -5],\n",
       " [21, 5, -5, -3, 4, 11, -12, 5, -5]]"
      ]
     },
     "execution_count": 168,
     "metadata": {},
     "output_type": "execute_result"
    }
   ],
   "source": [
    "semilep_partons.pdgId[0:10].tolist()"
   ]
  },
  {
   "cell_type": "code",
   "execution_count": 10,
   "id": "6ee53e50-0410-4721-a5b9-6cd04848eae8",
   "metadata": {},
   "outputs": [
    {
     "data": {
      "image/png": "[encoded data removed]",
      "text/plain": [
       "<Figure size 432x288 with 1 Axes>"
      ]
     },
     "metadata": {
      "needs_background": "light"
     },
     "output_type": "display_data"
    }
   ],
   "source": [
    "plt.hist(ak.num(semilep_partons), range=(0, 11), bins=11)\n",
    "plt.yscale(\"log\")"
   ]
  },
  {
   "cell_type": "code",
   "execution_count": 67,
   "id": "faeb1006-2cd7-4296-a7ac-ee1915f10ce1",
   "metadata": {},
   "outputs": [
    {
     "data": {
      "text/plain": [
       "[[5, -5, -13, 14, 3, -4, 5, -5],\n",
       " [5, -5, -13, 14, 3, -4, 5, -5],\n",
       " [5, -5, -13, 14, 1, -2, 5, -5]]"
      ]
     },
     "execution_count": 67,
     "metadata": {},
     "output_type": "execute_result"
    }
   ],
   "source": [
    "semilep_partons[ak.num(semilep_partons)<9].pdgId.tolist()"
   ]
  },
  {
   "cell_type": "code",
   "execution_count": 12,
   "id": "0ef4a900-f51a-4c0c-8607-fd7c43e3ce51",
   "metadata": {},
   "outputs": [
    {
     "data": {
      "text/plain": [
       "<Array [GenParticle, ... GenParticle] type='21973 * union[struct[[\"pt\", \"eta\", \"...'>"
      ]
     },
     "execution_count": 12,
     "metadata": {},
     "output_type": "execute_result"
    }
   ],
   "source": [
    "semilep_partons[:,7]"
   ]
  },
  {
   "cell_type": "code",
   "execution_count": 14,
   "id": "b9ac68fc-37ff-4bd6-b339-370d210a14f1",
   "metadata": {},
   "outputs": [],
   "source": [
    "top_parton1 = semilep_partons[:,1] + semilep_partons[:,3] + semilep_partons[:,4]\n",
    "top_parton2 = semilep_partons[:,2] + semilep_partons[:,5] + semilep_partons[:,6]\n",
    "#higgs_fromb = semilep_partons[:,7] + semilep_partons[:,8]"
   ]
  },
  {
   "cell_type": "code",
   "execution_count": null,
   "id": "a1c90dd2-ba5a-487c-a18d-c35b5f273e67",
   "metadata": {},
   "outputs": [],
   "source": [
    "y = ak.to_numpy(ak.flatten(semilep_partons.pdgId))\n",
    "x = ak.to_numpy(ak.flatten(ak.local_index(semilep_partons.pdgId)))\n",
    "\n",
    "plt.hist2d(x,y, cmin=1, bins=(8,37), range=((0,8),(-16,21)))\n",
    "plt.xlabel(\"LHE position\")\n",
    "plt.ylabel(\"Pdg Id\")\n",
    "plt.colorbar()"
   ]
  },
  {
   "cell_type": "code",
   "execution_count": 199,
   "id": "737431b9-70df-4263-a5ae-67f9ffab275a",
   "metadata": {},
   "outputs": [
    {
     "data": {
      "text/plain": [
       "Text(0, 1, 'pdgId pos 5')"
      ]
     },
     "execution_count": 199,
     "metadata": {},
     "output_type": "execute_result"
    },
    {
     "data": {
      "image/png": "[encoded data removed]",
      "text/plain": [
       "<Figure size 720x720 with 1 Axes>"
      ]
     },
     "metadata": {
      "needs_background": "light"
     },
     "output_type": "display_data"
    }
   ],
   "source": [
    "plt.scatter(semilep_partons.pdgId[:,3],semilep_partons.pdgId[:,4])\n",
    "plt.xlabel(\"pdgId pos 4\")\n",
    "plt.ylabel(\"pdgId pos 5\")"
   ]
  },
  {
   "cell_type": "code",
   "execution_count": 200,
   "id": "88618ad4-dc37-42ac-9c6a-ff778ada07fb",
   "metadata": {},
   "outputs": [
    {
     "data": {
      "text/plain": [
       "Text(0, 1, 'pdgId pos 6')"
      ]
     },
     "execution_count": 200,
     "metadata": {},
     "output_type": "execute_result"
    },
    {
     "data": {
      "image/png": "[encoded data removed]",
      "text/plain": [
       "<Figure size 720x720 with 1 Axes>"
      ]
     },
     "metadata": {
      "needs_background": "light"
     },
     "output_type": "display_data"
    }
   ],
   "source": [
    "plt.scatter(semilep_partons.pdgId[:,5],semilep_partons.pdgId[:,6])\n",
    "plt.xlabel(\"pdgId pos 5\")\n",
    "plt.ylabel(\"pdgId pos 6\")"
   ]
  },
  {
   "cell_type": "code",
   "execution_count": 17,
   "id": "e968cfd1-d63f-4aef-8e43-68e7f95e04f6",
   "metadata": {},
   "outputs": [
    {
     "data": {
      "text/plain": [
       "(array([4.700e+01, 3.700e+01, 3.900e+01, 4.900e+01, 6.100e+01, 7.700e+01,\n",
       "        8.600e+01, 1.080e+02, 1.450e+02, 1.820e+02, 3.140e+02, 4.200e+02,\n",
       "        7.440e+02, 1.827e+03, 5.685e+03, 7.396e+03, 2.431e+03, 9.360e+02,\n",
       "        4.670e+02, 2.430e+02, 1.740e+02, 1.280e+02, 8.500e+01, 6.400e+01,\n",
       "        5.300e+01, 4.200e+01, 4.000e+01, 3.900e+01, 2.100e+01, 2.100e+01,\n",
       "        1.000e+01, 0.000e+00, 0.000e+00, 0.000e+00, 0.000e+00, 0.000e+00,\n",
       "        0.000e+00, 0.000e+00, 0.000e+00, 0.000e+00, 0.000e+00, 0.000e+00,\n",
       "        0.000e+00, 0.000e+00, 0.000e+00, 0.000e+00, 0.000e+00, 0.000e+00,\n",
       "        0.000e+00, 0.000e+00, 0.000e+00, 0.000e+00, 0.000e+00, 0.000e+00,\n",
       "        0.000e+00, 0.000e+00, 0.000e+00, 0.000e+00, 0.000e+00, 0.000e+00,\n",
       "        0.000e+00, 0.000e+00, 0.000e+00, 0.000e+00, 0.000e+00, 0.000e+00,\n",
       "        0.000e+00, 0.000e+00, 0.000e+00, 0.000e+00, 1.000e+00, 0.000e+00,\n",
       "        0.000e+00, 0.000e+00, 0.000e+00, 0.000e+00, 0.000e+00, 0.000e+00,\n",
       "        0.000e+00, 0.000e+00, 0.000e+00, 0.000e+00, 0.000e+00, 0.000e+00,\n",
       "        0.000e+00, 0.000e+00, 0.000e+00, 0.000e+00, 0.000e+00, 0.000e+00,\n",
       "        0.000e+00, 0.000e+00, 0.000e+00, 0.000e+00, 0.000e+00, 0.000e+00,\n",
       "        0.000e+00, 0.000e+00, 0.000e+00, 1.000e+00]),\n",
       " array([157.43541, 158.42873, 159.42203, 160.41534, 161.40866, 162.40196,\n",
       "        163.39528, 164.3886 , 165.38191, 166.37521, 167.36853, 168.36185,\n",
       "        169.35515, 170.34846, 171.34178, 172.33508, 173.3284 , 174.32172,\n",
       "        175.31502, 176.30833, 177.30165, 178.29495, 179.28827, 180.28159,\n",
       "        181.2749 , 182.2682 , 183.26152, 184.25484, 185.24814, 186.24146,\n",
       "        187.23477, 188.22807, 189.22139, 190.2147 , 191.20801, 192.20132,\n",
       "        193.19464, 194.18796, 195.18126, 196.17458, 197.1679 , 198.1612 ,\n",
       "        199.15451, 200.14783, 201.14113, 202.13445, 203.12776, 204.12106,\n",
       "        205.11438, 206.1077 , 207.10101, 208.09431, 209.08763, 210.08095,\n",
       "        211.07425, 212.06757, 213.06088, 214.05418, 215.0475 , 216.04082,\n",
       "        217.03412, 218.02744, 219.02075, 220.01405, 221.00737, 222.00069,\n",
       "        222.994  , 223.9873 , 224.98062, 225.97394, 226.96724, 227.96056,\n",
       "        228.95387, 229.94717, 230.94049, 231.9338 , 232.92711, 233.92043,\n",
       "        234.91374, 235.90706, 236.90036, 237.89368, 238.887  , 239.8803 ,\n",
       "        240.87361, 241.86693, 242.86023, 243.85355, 244.84686, 245.84016,\n",
       "        246.83348, 247.8268 , 248.8201 , 249.81342, 250.80673, 251.80005,\n",
       "        252.79335, 253.78667, 254.77998, 255.77328, 256.7666 ],\n",
       "       dtype=float32),\n",
       " [<matplotlib.patches.Polygon at 0x7ff5a16501c0>])"
      ]
     },
     "execution_count": 17,
     "metadata": {},
     "output_type": "execute_result"
    },
    {
     "data": {
      "image/png": "[encoded data removed]",
      "text/plain": [
       "<Figure size 720x720 with 1 Axes>"
      ]
     },
     "metadata": {
      "needs_background": "light"
     },
     "output_type": "display_data"
    }
   ],
   "source": [
    "plt.hist(top_parton1.mass, bins=100, histtype=\"step\")\n",
    "plt.hist(top_parton2.mass, bins=100, histtype=\"step\")\n",
    "#plt.hist(higgs_fromb.mass, bins=100, histtype=\"step\")"
   ]
  },
  {
   "cell_type": "code",
   "execution_count": 20,
   "id": "483121a4-c35e-4048-b9e1-9aeb2dd01951",
   "metadata": {},
   "outputs": [
    {
     "data": {
      "text/plain": [
       "(array([    0.,     0.,     0.,     0.,     0.,  1106.,  1118.,  1036.,\n",
       "         1076.,  1090.,  1071.,     0.,     0.,     0.,     0.,     0.,\n",
       "        10025.,  3511.,  3394.,  3428.,  3544.,     0.,  3919.,  4750.,\n",
       "         3560.,  3358., 10022.,     0.,     0.,     0.,     0.,     0.,\n",
       "         1090.,  1071.,  1036.,  1076.,  1106.,  1118.,     0.,     0.,\n",
       "            0.,  7495.]),\n",
       " array([-21., -20., -19., -18., -17., -16., -15., -14., -13., -12., -11.,\n",
       "        -10.,  -9.,  -8.,  -7.,  -6.,  -5.,  -4.,  -3.,  -2.,  -1.,   0.,\n",
       "          1.,   2.,   3.,   4.,   5.,   6.,   7.,   8.,   9.,  10.,  11.,\n",
       "         12.,  13.,  14.,  15.,  16.,  17.,  18.,  19.,  20.,  21.]),\n",
       " <BarContainer object of 42 artists>)"
      ]
     },
     "execution_count": 20,
     "metadata": {},
     "output_type": "execute_result"
    },
    {
     "data": {
      "image/png": "[encoded data removed]",
      "text/plain": [
       "<Figure size 720x720 with 1 Axes>"
      ]
     },
     "metadata": {
      "needs_background": "light"
     },
     "output_type": "display_data"
    }
   ],
   "source": [
    "plt.hist(ak.flatten(events.LHEPart[events.LHEPart.status==1].pdgId), range=(-21,21), bins=42)"
   ]
  },
  {
   "cell_type": "code",
   "execution_count": 22,
   "id": "2beb337d-6161-425b-abbe-588560afdb97",
   "metadata": {},
   "outputs": [
    {
     "data": {
      "text/plain": [
       "(array([    0.,     0.,     0.,     0.,     0., 10000.,     0.]),\n",
       " array([ 3.,  4.,  5.,  6.,  7.,  8.,  9., 10.]),\n",
       " <BarContainer object of 7 artists>)"
      ]
     },
     "execution_count": 22,
     "metadata": {},
     "output_type": "execute_result"
    },
    {
     "data": {
      "image/png": "[encoded data removed]",
      "text/plain": [
       "<Figure size 720x720 with 1 Axes>"
      ]
     },
     "metadata": {
      "needs_background": "light"
     },
     "output_type": "display_data"
    }
   ],
   "source": [
    "plt.hist(ak.num(events.LHEPart[events.LHEPart.status==1]), bins=7, range=(3, 10))"
   ]
  },
  {
   "cell_type": "code",
   "execution_count": 11,
   "id": "ee58d299-ec35-4d74-861e-208b3eceb91d",
   "metadata": {},
   "outputs": [
    {
     "data": {
      "text/plain": [
       "(array([1019.,    0., 4459.,    0., 4522.]),\n",
       " array([3., 4., 5., 6., 7., 8.]),\n",
       " <BarContainer object of 5 artists>)"
      ]
     },
     "execution_count": 11,
     "metadata": {},
     "output_type": "execute_result"
    },
    {
     "data": {
      "image/png": "[encoded data removed]",
      "text/plain": [
       "<Figure size 720x720 with 1 Axes>"
      ]
     },
     "metadata": {
      "needs_background": "light"
     },
     "output_type": "display_data"
    }
   ],
   "source": [
    "plt.hist(ak.num(quarks), bins=5, range=(3, 8))"
   ]
  },
  {
   "cell_type": "code",
   "execution_count": null,
   "id": "b2c7faa0-c839-4b29-a179-ea63e9c0253b",
   "metadata": {},
   "outputs": [],
   "source": []
  },
  {
   "cell_type": "code",
   "execution_count": 53,
   "id": "2391178f-464c-4c38-a0de-704216e9dbdf",
   "metadata": {},
   "outputs": [
    {
     "data": {
      "text/plain": [
       "(array([20000.,     0.,     0.,     0.,     0.,     0.,     0.,     0.,\n",
       "            0., 80000.]),\n",
       " array([-1. , -0.8, -0.6, -0.4, -0.2,  0. ,  0.2,  0.4,  0.6,  0.8,  1. ]),\n",
       " <BarContainer object of 10 artists>)"
      ]
     },
     "execution_count": 53,
     "metadata": {},
     "output_type": "execute_result"
    },
    {
     "data": {
      "image/png": "[encoded data removed]",
      "text/plain": [
       "<Figure size 720x720 with 1 Axes>"
      ]
     },
     "metadata": {
      "needs_background": "light"
     },
     "output_type": "display_data"
    }
   ],
   "source": [
    "plt.hist(ak.flatten(events.LHEPart.status))"
   ]
  },
  {
   "cell_type": "markdown",
   "id": "9382463a-44cd-4720-90fb-f68a25f24118",
   "metadata": {},
   "source": [
    "## Matching"
   ]
  },
  {
   "cell_type": "code",
   "execution_count": 169,
   "id": "4d908771-1d02-4cb5-ad23-b9bd9765f012",
   "metadata": {},
   "outputs": [],
   "source": [
    "abspdg = abs(semilep_partons.pdgId)\n",
    "lepparton = (abspdg>=11)&(abspdg<=18)\n",
    "pp = semilep_partons[(~lepparton)]"
   ]
  },
  {
   "cell_type": "markdown",
   "id": "69398f53-54e5-4ef4-9c9c-1284772afe91",
   "metadata": {},
   "source": [
    "- 3, -4 ==> s, -c ==> -1/3  -2/3 = -1 ==> W- => antitop\n",
    "- 3, -2 ==> s, -u ==> -1/3 -2/3 = -1 ==> W- ==>antitop (suppressed)\n",
    "- 1, -2 ==> d, -u ==> -1/3 -2/3 = -1 ==> W- =>antitop\n",
    "- 1, -4 ==> d, -c ==> -1/3, -2/3 = -1 ==> W- ==> antitop (suppressed)\n",
    "\n",
    "- -3, 4 ==> -s, c ==> 1/3  2/3 = +1 ==> W+ => top\n",
    "- -3, 2 ==> -s, u ==> 1/3 2/3 = 1 ==> W+ ==> top (suppressed)\n",
    "- -1, 2 ==> -d, u ==> 1/3  +2/3 = +1 ==> W+ ==> top\n",
    "- -1, 4 ==> -d, c ==> 1/3 2/3 = 1 ==> W+ ==> top (suppressed)\n"
   ]
  },
  {
   "cell_type": "code",
   "execution_count": 173,
   "id": "93929bdb-888d-4a7f-b487-f5d13a8bd2e1",
   "metadata": {},
   "outputs": [
    {
     "data": {
      "text/plain": [
       "(array([2.1500e+02, 7.9259e+04, 2.2400e+02, 0.0000e+00, 0.0000e+00,\n",
       "        0.0000e+00, 0.0000e+00, 0.0000e+00, 3.5285e+04, 0.0000e+00,\n",
       "        0.0000e+00, 1.5163e+04, 2.0000e+00, 0.0000e+00, 0.0000e+00,\n",
       "        0.0000e+00, 0.0000e+00, 0.0000e+00, 0.0000e+00, 0.0000e+00,\n",
       "        0.0000e+00, 0.0000e+00, 0.0000e+00, 0.0000e+00, 0.0000e+00,\n",
       "        0.0000e+00, 0.0000e+00, 0.0000e+00, 0.0000e+00, 0.0000e+00,\n",
       "        0.0000e+00, 0.0000e+00, 1.4911e+04, 0.0000e+00, 0.0000e+00,\n",
       "        0.0000e+00, 0.0000e+00, 0.0000e+00, 0.0000e+00, 0.0000e+00,\n",
       "        0.0000e+00, 0.0000e+00, 0.0000e+00, 0.0000e+00, 0.0000e+00,\n",
       "        0.0000e+00, 0.0000e+00, 0.0000e+00, 0.0000e+00, 0.0000e+00,\n",
       "        0.0000e+00, 0.0000e+00, 0.0000e+00, 0.0000e+00, 0.0000e+00,\n",
       "        0.0000e+00, 0.0000e+00, 0.0000e+00, 0.0000e+00, 0.0000e+00,\n",
       "        0.0000e+00, 0.0000e+00, 0.0000e+00, 0.0000e+00, 0.0000e+00,\n",
       "        0.0000e+00, 0.0000e+00, 0.0000e+00, 0.0000e+00, 0.0000e+00,\n",
       "        0.0000e+00, 0.0000e+00, 0.0000e+00, 0.0000e+00, 0.0000e+00,\n",
       "        0.0000e+00, 0.0000e+00, 0.0000e+00, 0.0000e+00, 0.0000e+00,\n",
       "        0.0000e+00, 0.0000e+00, 0.0000e+00, 0.0000e+00, 0.0000e+00,\n",
       "        0.0000e+00, 0.0000e+00, 0.0000e+00, 0.0000e+00, 0.0000e+00,\n",
       "        0.0000e+00, 0.0000e+00, 0.0000e+00, 0.0000e+00, 0.0000e+00,\n",
       "        0.0000e+00, 0.0000e+00, 0.0000e+00, 0.0000e+00, 5.8204e+04]),\n",
       " array([-0.07365799, -0.02541653,  0.02282494,  0.0710664 ,  0.11930786,\n",
       "         0.16754933,  0.2157908 ,  0.26403224,  0.3122737 ,  0.36051518,\n",
       "         0.40875664,  0.4569981 ,  0.50523955,  0.55348104,  0.6017225 ,\n",
       "         0.649964  ,  0.6982054 ,  0.74644685,  0.79468834,  0.8429298 ,\n",
       "         0.8911713 ,  0.9394127 ,  0.9876542 ,  1.0358957 ,  1.0841371 ,\n",
       "         1.1323786 ,  1.1806201 ,  1.2288615 ,  1.277103  ,  1.3253444 ,\n",
       "         1.3735859 ,  1.4218273 ,  1.4700688 ,  1.5183103 ,  1.5665517 ,\n",
       "         1.6147932 ,  1.6630347 ,  1.7112762 ,  1.7595176 ,  1.807759  ,\n",
       "         1.8560005 ,  1.904242  ,  1.9524834 ,  2.0007248 ,  2.0489664 ,\n",
       "         2.0972078 ,  2.1454494 ,  2.1936908 ,  2.2419322 ,  2.2901738 ,\n",
       "         2.3384151 ,  2.3866565 ,  2.4348981 ,  2.4831395 ,  2.531381  ,\n",
       "         2.5796225 ,  2.627864  ,  2.6761055 ,  2.7243469 ,  2.7725883 ,\n",
       "         2.8208299 ,  2.8690712 ,  2.9173126 ,  2.9655542 ,  3.0137956 ,\n",
       "         3.062037  ,  3.1102786 ,  3.15852   ,  3.2067614 ,  3.255003  ,\n",
       "         3.3032444 ,  3.351486  ,  3.3997273 ,  3.4479687 ,  3.4962103 ,\n",
       "         3.5444517 ,  3.592693  ,  3.6409347 ,  3.689176  ,  3.7374175 ,\n",
       "         3.785659  ,  3.8339005 ,  3.882142  ,  3.9303834 ,  3.9786248 ,\n",
       "         4.0268664 ,  4.0751076 ,  4.123349  ,  4.171591  ,  4.2198324 ,\n",
       "         4.2680736 ,  4.316315  ,  4.364557  ,  4.412798  ,  4.4610395 ,\n",
       "         4.509281  ,  4.5575223 ,  4.605764  ,  4.6540055 ,  4.7022467 ,\n",
       "         4.7504883 ], dtype=float32),\n",
       " <BarContainer object of 100 artists>)"
      ]
     },
     "execution_count": 173,
     "metadata": {},
     "output_type": "execute_result"
    },
    {
     "data": {
      "image/png": "[encoded data removed]",
      "text/plain": [
       "<Figure size 720x720 with 1 Axes>"
      ]
     },
     "metadata": {
      "needs_background": "light"
     },
     "output_type": "display_data"
    }
   ],
   "source": [
    "plt.hist(ak.flatten(pp.mass), bins=100)"
   ]
  },
  {
   "cell_type": "code",
   "execution_count": 42,
   "id": "e2abd447-6138-46d6-a7f7-892886fd4700",
   "metadata": {},
   "outputs": [],
   "source": [
    "from numba import njit\n",
    "\n",
    "@njit\n",
    "def get_partons_provenance(pdgIds, array_builder):    \n",
    "    for ids in pdgIds:\n",
    "        from_part = [-1]*len(ids)\n",
    "        if len(ids)==7:\n",
    "            offset = 1\n",
    "            # the first particle is the additional radiations\n",
    "            from_part[0] = 4\n",
    "        else: \n",
    "            offset = 0\n",
    "        # From part ==\n",
    "        # 1=higgs, 2=hadronic top, 3=leptonic top, 4=additional radiation\n",
    "    \n",
    "        top = []\n",
    "        antitop = []\n",
    "        hadr_top = 0 # 1==top, -1 antitop\n",
    "        if ids[0+offset] == 5:\n",
    "            top.append(0+offset)\n",
    "        if ids[1+offset] == -5:\n",
    "            antitop.append(1+offset)\n",
    "        # Now looking at the top products\n",
    "        #pair = [ids[2+offset], ids[3+offset]]\n",
    "        # Antitop\n",
    "        if ids[2+offset]==3 and ids[3+offset]==-4:\n",
    "            antitop+= [2+offset, 3+offset]\n",
    "            hadr_top = -1\n",
    "        if ids[2+offset]==3 and ids[3+offset]==-2:\n",
    "            antitop+=[2+offset, 3+offset]\n",
    "            hadr_top = -1\n",
    "        if ids[2+offset]==1 and ids[3+offset]==-2:\n",
    "            antitop+= [2+offset, 3+offset]\n",
    "            hadr_top = -1\n",
    "        if ids[2+offset]==1 and ids[3+offset]==-4:\n",
    "            antitop+= [2+offset, 3+offset]\n",
    "            hadr_top = -1\n",
    "        # top\n",
    "        if ids[2+offset]==-3 and ids[3+offset]==4:\n",
    "            top+= [2+offset, 3+offset]\n",
    "            hadr_top = 1\n",
    "        if ids[2+offset]==-3 and ids[3+offset]==2:\n",
    "            top+= [2+offset, 3+offset]\n",
    "            hadr_top = 1\n",
    "        if ids[2+offset]==-1 and ids[3+offset]==2:\n",
    "            top+= [2+offset, 3+offset]\n",
    "            hadr_top = 1\n",
    "        if ids[2+offset]==-1 and ids[3+offset]==4:\n",
    "            top+= [2+offset, 3+offset]\n",
    "            hadr_top = 1\n",
    "\n",
    "        if hadr_top == -1:\n",
    "            for i in antitop:\n",
    "                from_part[i] = 2\n",
    "            for i in top:\n",
    "                from_part[i] = 3\n",
    "        if hadr_top == 1:\n",
    "            for i in antitop:\n",
    "                from_part[i] = 3\n",
    "            for i in top:\n",
    "                from_part[i] = 2\n",
    "\n",
    "        # The higgs is at the bottom\n",
    "        from_part[4+offset] = 1\n",
    "        from_part[5+offset] = 1\n",
    "        \n",
    "        array_builder.begin_list()\n",
    "        for i in from_part:\n",
    "            array_builder.append(i)\n",
    "        array_builder.end_list()\n",
    "    return array_builder"
   ]
  },
  {
   "cell_type": "code",
   "execution_count": 43,
   "id": "1e3a75cb-a2b9-403f-8d8d-b3f5a5fbf0e7",
   "metadata": {},
   "outputs": [],
   "source": [
    "prov = get_partons_provenance(ak.Array(pp.pdgId, behavior={}), ak.ArrayBuilder()).snapshot()"
   ]
  },
  {
   "cell_type": "code",
   "execution_count": 59,
   "id": "2269acfb-3208-4da4-b884-3365d8fadb57",
   "metadata": {},
   "outputs": [],
   "source": [
    "partons_with_provenance = ak.with_field(pp, prov, \"provenance\")"
   ]
  },
  {
   "cell_type": "code",
   "execution_count": 60,
   "id": "157ba94c-3b06-4434-892b-71412c601699",
   "metadata": {},
   "outputs": [
    {
     "data": {
      "text/plain": [
       "<PtEtaPhiMCandidateArray [[{pt: 20.8, ... provenance: 1}]] type='21973 * var * ?...'>"
      ]
     },
     "execution_count": 60,
     "metadata": {},
     "output_type": "execute_result"
    }
   ],
   "source": [
    "partons_with_provenance"
   ]
  },
  {
   "cell_type": "code",
   "execution_count": 44,
   "id": "07c3a0af-0dc8-4f9b-af0e-94ea20f56499",
   "metadata": {},
   "outputs": [
    {
     "data": {
      "text/plain": [
       "[[21, 5, -5, 3, -4, 5, -5],\n",
       " [21, 5, -5, 3, -4, 5, -5],\n",
       " [21, 5, -5, -3, 4, 5, -5],\n",
       " [21, 5, -5, -1, 2, 5, -5],\n",
       " [21, 5, -5, 3, -4, 5, -5],\n",
       " [2, 5, -5, 3, -4, 5, -5],\n",
       " [2, 5, -5, 3, -4, 5, -5],\n",
       " [21, 5, -5, -1, 2, 5, -5],\n",
       " [-2, 5, -5, -3, 4, 5, -5],\n",
       " [21, 5, -5, -3, 4, 5, -5],\n",
       " [21, 5, -5, -1, 2, 5, -5],\n",
       " [21, 5, -5, 1, -2, 5, -5],\n",
       " [21, 5, -5, -1, 2, 5, -5],\n",
       " [21, 5, -5, 1, -2, 5, -5],\n",
       " [21, 5, -5, 1, -2, 5, -5],\n",
       " [21, 5, -5, 3, -4, 5, -5],\n",
       " [1, 5, -5, 1, -2, 5, -5],\n",
       " [3, 5, -5, -3, 2, 5, -5],\n",
       " [21, 5, -5, 1, -2, 5, -5],\n",
       " [3, 5, -5, 1, -2, 5, -5]]"
      ]
     },
     "execution_count": 44,
     "metadata": {},
     "output_type": "execute_result"
    }
   ],
   "source": [
    "pp.pdgId[0:20].tolist()"
   ]
  },
  {
   "cell_type": "code",
   "execution_count": 45,
   "id": "57ce69d0-e425-49c6-a597-e2a4db1cb158",
   "metadata": {},
   "outputs": [],
   "source": [
    "hadronictop = pp[prov==4]"
   ]
  },
  {
   "cell_type": "code",
   "execution_count": 16,
   "id": "d934d302-870a-45eb-a0bd-649014c3456c",
   "metadata": {},
   "outputs": [
    {
     "data": {
      "text/plain": [
       "[[21], [21], [21], [21], [21], [2], [2], [21], [-2], [21]]"
      ]
     },
     "execution_count": 16,
     "metadata": {},
     "output_type": "execute_result"
    }
   ],
   "source": [
    "hadronictop[0:10].pdgId.tolist()"
   ]
  },
  {
   "cell_type": "code",
   "execution_count": 196,
   "id": "9f2efb78-819d-4a3c-95b2-6ab42e9eb3ec",
   "metadata": {},
   "outputs": [
    {
     "data": {
      "text/plain": [
       "5070049.4418029785"
      ]
     },
     "execution_count": 196,
     "metadata": {},
     "output_type": "execute_result"
    }
   ],
   "source": [
    "ak.sum(sp[prov==2])"
   ]
  },
  {
   "cell_type": "code",
   "execution_count": 151,
   "id": "d85fde21-cb8b-4226-a7f4-11429054ead6",
   "metadata": {},
   "outputs": [
    {
     "data": {
      "text/plain": [
       "(array([5538.,    0.,    0., 5487.,    0.,    0., 5338.,    0.,    0.,\n",
       "        5607.]),\n",
       " array([-3. , -2.4, -1.8, -1.2, -0.6,  0. ,  0.6,  1.2,  1.8,  2.4,  3. ]),\n",
       " <BarContainer object of 10 artists>)"
      ]
     },
     "execution_count": 151,
     "metadata": {},
     "output_type": "execute_result"
    },
    {
     "data": {
      "image/png": "[encoded data removed]",
      "text/plain": [
       "<Figure size 720x720 with 1 Axes>"
      ]
     },
     "metadata": {
      "needs_background": "light"
     },
     "output_type": "display_data"
    }
   ],
   "source": [
    "plt.hist(sp.pdgId[:,3])"
   ]
  },
  {
   "cell_type": "code",
   "execution_count": 152,
   "id": "952e804b-6e96-4c5a-9771-c81f1a312c66",
   "metadata": {},
   "outputs": [
    {
     "data": {
      "text/plain": [
       "(array([5588.,    0., 5357.,    0.,    0.,    0.,    0., 5463.,    0.,\n",
       "        5562.]),\n",
       " array([-4. , -3.2, -2.4, -1.6, -0.8,  0. ,  0.8,  1.6,  2.4,  3.2,  4. ]),\n",
       " <BarContainer object of 10 artists>)"
      ]
     },
     "execution_count": 152,
     "metadata": {},
     "output_type": "execute_result"
    },
    {
     "data": {
      "image/png": "[encoded data removed]",
      "text/plain": [
       "<Figure size 720x720 with 1 Axes>"
      ]
     },
     "metadata": {
      "needs_background": "light"
     },
     "output_type": "display_data"
    }
   ],
   "source": [
    "plt.hist(sp.pdgId[:,4ak.num(pp)==7])"
   ]
  },
  {
   "cell_type": "code",
   "execution_count": 153,
   "id": "23637c41-0be2-44e5-95f4-92f95d26a4bc",
   "metadata": {},
   "outputs": [
    {
     "data": {
      "text/plain": [
       "<Array [-4, -4, 4, 2, -4, ... -4, -4, 2, -2, 4] type='21970 * ?int32'>"
      ]
     },
     "execution_count": 153,
     "metadata": {},
     "output_type": "execute_result"
    }
   ],
   "source": [
    "sp.pdgId[:,4]"
   ]
  },
  {
   "cell_type": "code",
   "execution_count": 150,
   "id": "4a9ba025-14e2-488b-9d3f-6edcad524f6e",
   "metadata": {},
   "outputs": [
    {
     "data": {
      "text/plain": [
       "<matplotlib.colorbar.Colorbar at 0x7ff5937f8ca0>"
      ]
     },
     "execution_count": 150,
     "metadata": {},
     "output_type": "execute_result"
    },
    {
     "data": {
      "image/png": "[encoded data removed]",
      "text/plain": [
       "<Figure size 720x720 with 2 Axes>"
      ]
     },
     "metadata": {
      "needs_background": "light"
     },
     "output_type": "display_data"
    }
   ],
   "source": [
    "plt.hist2d(ak.to_numpy(sp.pdgId[:,3]),ak.to_numpy(sp.pdgId[:,4]), \n",
    "           bins=8, range=((-4, 4),(-4,4)),\n",
    "          norm=LogNorm())\n",
    "plt.xlabel(\"pdgId pos 4\")\n",
    "plt.ylabel(\"pdgId pos 5\")\n",
    "plt.colorbar()"
   ]
  },
  {
   "cell_type": "markdown",
   "id": "ca8208a1-99df-4801-ac97-ca328a119491",
   "metadata": {},
   "source": [
    "Matched with quarks"
   ]
  },
  {
   "cell_type": "code",
   "execution_count": 61,
   "id": "f5d020e3-669b-4448-98d3-3d9d885ef0e1",
   "metadata": {},
   "outputs": [],
   "source": [
    "matched_quarks, matched_jets,deltaR_matched,idx_quark, idx_jet, dR = object_matching(partons_with_provenance, events.Jet, dr_min=0.4, return_indices=True)"
   ]
  },
  {
   "cell_type": "code",
   "execution_count": 62,
   "id": "f649d27b-67ef-4380-a485-3fbb9ffa5618",
   "metadata": {},
   "outputs": [
    {
     "data": {
      "text/plain": [
       "[[-5, None, None, 5, None, None, None],\n",
       " [-5, 5, -5, -4, 3, None, 5, None, None, 21],\n",
       " [-3, None, 5, -5, 21, -5, 4, None, None, None, None, None, None],\n",
       " [21, 5, 2, -5, -1, None, None, None, None],\n",
       " [5, 5, -5, 3, None, None, None, -5, None],\n",
       " [-5, None, 5, -5, 2, -4, None, 5, None, None, None],\n",
       " [None, 2, -5, 3, -4, 5, None, None],\n",
       " [5, -1, -5, 5, None, None, None, None, None],\n",
       " [5, 5, 4, None, -3, None, None, None, None, None, -5],\n",
       " [-5, 4, 5, 5, -5, None, None, None]]"
      ]
     },
     "execution_count": 62,
     "metadata": {},
     "output_type": "execute_result"
    }
   ],
   "source": [
    "matched_quarks.pdgId[0:10].tolist()"
   ]
  },
  {
   "cell_type": "code",
   "execution_count": 63,
   "id": "b16ea550-13c5-45d8-8b92-49207c0674c0",
   "metadata": {},
   "outputs": [
    {
     "data": {
      "text/plain": [
       "[[1, None, None, 3, None, None, None],\n",
       " [2, 3, 1, 2, 2, None, 1, None, None, 4],\n",
       " [2, None, 2, 1, 4, 3, 2, None, None, None, None, None, None],\n",
       " [4, 2, 2, 1, 2, None, None, None, None],\n",
       " [3, 1, 2, 2, None, None, None, 1, None],\n",
       " [2, None, 3, 1, 4, 2, None, 1, None, None, None],\n",
       " [None, 4, 1, 2, 2, 1, None, None],\n",
       " [1, 2, 3, 2, None, None, None, None, None],\n",
       " [1, 2, 2, None, 2, None, None, None, None, None, 3],\n",
       " [3, 2, 1, 2, 1, None, None, None]]"
      ]
     },
     "execution_count": 63,
     "metadata": {},
     "output_type": "execute_result"
    }
   ],
   "source": [
    "matched_quarks.provenance[0:10].tolist()"
   ]
  },
  {
   "cell_type": "code",
   "execution_count": 55,
   "id": "871099b2-d0a7-44ba-8a7c-775e5864f3c0",
   "metadata": {},
   "outputs": [
    {
     "data": {
      "text/plain": [
       "[[6, 1],\n",
       " [2, 1, 6, 4, 3, 5, 0],\n",
       " [3, 1, 6, 0, 2, 4],\n",
       " [0, 1, 4, 6, 3],\n",
       " [1, 5, 2, 3, 6],\n",
       " [2, 1, 6, 0, 4, 5],\n",
       " [0, 6, 3, 4, 5],\n",
       " [5, 3, 2, 1],\n",
       " [5, 1, 4, 3, 2],\n",
       " [2, 4, 5, 1, 6]]"
      ]
     },
     "execution_count": 55,
     "metadata": {},
     "output_type": "execute_result"
    }
   ],
   "source": [
    "idx_quark[0:10].tolist()"
   ]
  },
  {
   "cell_type": "code",
   "execution_count": 56,
   "id": "cb5c4f78-4221-4f9a-b31e-a0b77a659c44",
   "metadata": {},
   "outputs": [
    {
     "data": {
      "text/plain": [
       "[[0, 3],\n",
       " [0, 1, 2, 3, 4, 6, 9],\n",
       " [0, 2, 3, 4, 5, 6],\n",
       " [0, 1, 2, 3, 4],\n",
       " [0, 1, 2, 3, 7],\n",
       " [0, 2, 3, 4, 5, 7],\n",
       " [1, 2, 3, 4, 5],\n",
       " [0, 1, 2, 3],\n",
       " [0, 1, 2, 4, 10],\n",
       " [0, 1, 2, 3, 4]]"
      ]
     },
     "execution_count": 56,
     "metadata": {},
     "output_type": "execute_result"
    }
   ],
   "source": [
    "idx_jet[0:10].tolist()"
   ]
  },
  {
   "cell_type": "code",
   "execution_count": 49,
   "id": "f4d49ad3-3520-4c37-bbc8-3f1aa7b8486e",
   "metadata": {},
   "outputs": [
    {
     "data": {
      "text/plain": [
       "[[21, 5, -5, -13, 14, 3, -4, 5, -5],\n",
       " [21, 5, -5, -15, 16, 3, -4, 5, -5],\n",
       " [21, 5, -5, -3, 4, 11, -12, 5, -5],\n",
       " [21, 5, -5, -1, 2, 13, -14, 5, -5],\n",
       " [21, 5, -5, -15, 16, 3, -4, 5, -5],\n",
       " [2, 5, -5, -13, 14, 3, -4, 5, -5],\n",
       " [2, 5, -5, -13, 14, 3, -4, 5, -5],\n",
       " [21, 5, -5, -1, 2, 15, -16, 5, -5],\n",
       " [-2, 5, -5, -3, 4, 13, -14, 5, -5],\n",
       " [21, 5, -5, -3, 4, 11, -12, 5, -5]]"
      ]
     },
     "execution_count": 49,
     "metadata": {},
     "output_type": "execute_result"
    }
   ],
   "source": [
    "semilep_partons.pdgId[0:10].tolist()"
   ]
  },
  {
   "cell_type": "code",
   "execution_count": 131,
   "id": "2f52c050-e6ed-413a-b9d5-14ed2a35d0d8",
   "metadata": {},
   "outputs": [
    {
     "data": {
      "text/plain": [
       "[[6, 1],\n",
       " [2, 1, 6, 4, 3, 5, 0],\n",
       " [3, 1, 6, 0, 2, 4],\n",
       " [0, 1, 4, 6, 3],\n",
       " [1, 5, 2, 3, 6],\n",
       " [2, 1, 6, 0, 4, 5],\n",
       " [0, 6, 3, 4, 5],\n",
       " [5, 3, 2, 1],\n",
       " [5, 1, 4, 3, 2],\n",
       " [2, 4, 5, 1, 6]]"
      ]
     },
     "execution_count": 131,
     "metadata": {},
     "output_type": "execute_result"
    }
   ],
   "source": [
    "idx_quark[0:10].tolist()"
   ]
  },
  {
   "cell_type": "code",
   "execution_count": 132,
   "id": "6df60405-9a89-4cf2-b1ac-7658669fd8ed",
   "metadata": {},
   "outputs": [
    {
     "data": {
      "text/plain": [
       "[[0, 3],\n",
       " [0, 1, 2, 3, 4, 6, 9],\n",
       " [0, 2, 3, 4, 5, 6],\n",
       " [0, 1, 2, 3, 4],\n",
       " [0, 1, 2, 3, 7],\n",
       " [0, 2, 3, 4, 5, 7],\n",
       " [1, 2, 3, 4, 5],\n",
       " [0, 1, 2, 3],\n",
       " [0, 1, 2, 4, 10],\n",
       " [0, 1, 2, 3, 4]]"
      ]
     },
     "execution_count": 132,
     "metadata": {},
     "output_type": "execute_result"
    }
   ],
   "source": [
    "idx_jet[0:10].tolist()"
   ]
  },
  {
   "cell_type": "code",
   "execution_count": 60,
   "id": "d1c4b25e-9213-45be-a924-fade515b1102",
   "metadata": {},
   "outputs": [],
   "source": [
    "matched_jets, matched_quarks,deltaR_matched, idx_jet, idx_quark, dR = object_matching(semilep_events.Jet,semilep_partons, dr_min=0.4, return_indices=True)"
   ]
  },
  {
   "cell_type": "code",
   "execution_count": 61,
   "id": "6e259fe1-d26d-4978-832d-7107004ad1d5",
   "metadata": {},
   "outputs": [
    {
     "data": {
      "text/plain": [
       "[[None, 5, None, -13, None, None, None, None, -5],\n",
       " [21, 5, -5, None, None, 3, -4, 5, -5],\n",
       " [21, 5, -5, -3, 4, 11, -12, None, -5],\n",
       " [21, 5, None, -1, 2, None, None, None, -5],\n",
       " [None, 5, -5, -15, None, 3, None, 5, -5]]"
      ]
     },
     "execution_count": 61,
     "metadata": {},
     "output_type": "execute_result"
    }
   ],
   "source": [
    "matched_quarks.pdgId[0:5].tolist()"
   ]
  },
  {
   "cell_type": "code",
   "execution_count": 62,
   "id": "ce716bad-bf1c-4340-a6f7-c915c381591e",
   "metadata": {},
   "outputs": [
    {
     "data": {
      "text/plain": [
       "<Array [9, 9, 9, 9, 9, 9, ... 9, 9, 9, 9, 9, 9] type='21973 * int64'>"
      ]
     },
     "execution_count": 62,
     "metadata": {},
     "output_type": "execute_result"
    }
   ],
   "source": [
    "ak.num(matched_jets)"
   ]
  },
  {
   "cell_type": "code",
   "execution_count": 53,
   "id": "b794868c-6e28-4fd4-a707-542639cafa5e",
   "metadata": {},
   "outputs": [
    {
     "data": {
      "text/plain": [
       "[[1, 3, 8],\n",
       " [0, 1, 2, 5, 6, 7, 8],\n",
       " [0, 1, 2, 3, 4, 5, 6, 8],\n",
       " [0, 1, 3, 4, 8],\n",
       " [1, 2, 3, 5, 7, 8]]"
      ]
     },
     "execution_count": 53,
     "metadata": {},
     "output_type": "execute_result"
    }
   ],
   "source": [
    "idx_quark[0:5].tolist()"
   ]
  },
  {
   "cell_type": "code",
   "execution_count": 54,
   "id": "fbc5c540-b7df-4190-b871-96149b410582",
   "metadata": {},
   "outputs": [
    {
     "data": {
      "text/plain": [
       "[[3, 1, 0],\n",
       " [9, 1, 0, 4, 3, 6, 2],\n",
       " [4, 2, 5, 0, 6, 1, 7, 3],\n",
       " [0, 1, 4, 2, 3],\n",
       " [0, 2, 8, 3, 1, 7]]"
      ]
     },
     "execution_count": 54,
     "metadata": {},
     "output_type": "execute_result"
    }
   ],
   "source": [
    "idx_jet[0:5].tolist()"
   ]
  },
  {
   "cell_type": "code",
   "execution_count": 176,
   "id": "bfeb705d-f6f5-4b09-bf3b-2344aa220404",
   "metadata": {},
   "outputs": [],
   "source": [
    "lep_pt = ak.pad_none(events.LeptonGood.pt, 2)"
   ]
  },
  {
   "cell_type": "code",
   "execution_count": 183,
   "id": "cfe43261-690c-4be7-8133-bb6fc70a2bc3",
   "metadata": {},
   "outputs": [],
   "source": [
    "mask = (lep_pt[:,0]>30)& (lep_pt[:,1]>15)"
   ]
  },
  {
   "cell_type": "code",
   "execution_count": 186,
   "id": "9f178984-c3d4-4cf9-9e83-c3dbd6f8140f",
   "metadata": {},
   "outputs": [
    {
     "data": {
      "text/plain": [
       "175"
      ]
     },
     "execution_count": 186,
     "metadata": {},
     "output_type": "execute_result"
    }
   ],
   "source": [
    "ak.sum(ak.where(ak.is_none(mask), False, mask))"
   ]
  },
  {
   "cell_type": "code",
   "execution_count": 201,
   "id": "32f00fe2-2fbb-4b5f-a47f-b058bf499c27",
   "metadata": {},
   "outputs": [],
   "source": [
    "lhe_ele = events.LHEPart[(events.LHEPart.status == 1)&(abs(events.LHEPart.pdgId)>=11)&(abs(events.LHEPart.pdgId)>=11)]\n",
    "pt = ak.fill_none(ak.pad_none(lhe_ele.pt,2),-10)"
   ]
  },
  {
   "cell_type": "code",
   "execution_count": 204,
   "id": "1eb791d8-b5b5-4f78-8410-253876ad0e8f",
   "metadata": {
    "collapsed": true,
    "jupyter": {
     "outputs_hidden": true
    },
    "tags": []
   },
   "outputs": [
    {
     "data": {
      "text/plain": [
       "(array([[1.9348e+04, 0.0000e+00, 0.0000e+00, 0.0000e+00, 0.0000e+00,\n",
       "         0.0000e+00, 0.0000e+00, 0.0000e+00, 0.0000e+00, 0.0000e+00,\n",
       "         0.0000e+00, 0.0000e+00, 0.0000e+00, 0.0000e+00, 0.0000e+00,\n",
       "         0.0000e+00, 0.0000e+00, 0.0000e+00, 0.0000e+00, 0.0000e+00],\n",
       "        [2.0000e+00, 0.0000e+00, 0.0000e+00, 0.0000e+00, 0.0000e+00,\n",
       "         0.0000e+00, 0.0000e+00, 0.0000e+00, 0.0000e+00, 0.0000e+00,\n",
       "         0.0000e+00, 0.0000e+00, 0.0000e+00, 0.0000e+00, 0.0000e+00,\n",
       "         0.0000e+00, 0.0000e+00, 0.0000e+00, 0.0000e+00, 0.0000e+00],\n",
       "        [1.5400e+02, 0.0000e+00, 0.0000e+00, 0.0000e+00, 0.0000e+00,\n",
       "         0.0000e+00, 0.0000e+00, 0.0000e+00, 0.0000e+00, 0.0000e+00,\n",
       "         0.0000e+00, 0.0000e+00, 0.0000e+00, 0.0000e+00, 0.0000e+00,\n",
       "         0.0000e+00, 0.0000e+00, 0.0000e+00, 0.0000e+00, 0.0000e+00],\n",
       "        [3.8500e+02, 0.0000e+00, 0.0000e+00, 0.0000e+00, 0.0000e+00,\n",
       "         0.0000e+00, 0.0000e+00, 0.0000e+00, 0.0000e+00, 0.0000e+00,\n",
       "         0.0000e+00, 0.0000e+00, 0.0000e+00, 0.0000e+00, 0.0000e+00,\n",
       "         0.0000e+00, 0.0000e+00, 0.0000e+00, 0.0000e+00, 0.0000e+00],\n",
       "        [5.7100e+02, 0.0000e+00, 0.0000e+00, 0.0000e+00, 0.0000e+00,\n",
       "         0.0000e+00, 0.0000e+00, 0.0000e+00, 0.0000e+00, 0.0000e+00,\n",
       "         0.0000e+00, 0.0000e+00, 0.0000e+00, 0.0000e+00, 0.0000e+00,\n",
       "         0.0000e+00, 0.0000e+00, 0.0000e+00, 0.0000e+00, 0.0000e+00],\n",
       "        [6.8700e+02, 0.0000e+00, 0.0000e+00, 0.0000e+00, 0.0000e+00,\n",
       "         0.0000e+00, 0.0000e+00, 0.0000e+00, 0.0000e+00, 0.0000e+00,\n",
       "         0.0000e+00, 0.0000e+00, 0.0000e+00, 0.0000e+00, 0.0000e+00,\n",
       "         0.0000e+00, 0.0000e+00, 0.0000e+00, 0.0000e+00, 0.0000e+00],\n",
       "        [7.3600e+02, 0.0000e+00, 0.0000e+00, 0.0000e+00, 0.0000e+00,\n",
       "         0.0000e+00, 0.0000e+00, 0.0000e+00, 0.0000e+00, 0.0000e+00,\n",
       "         0.0000e+00, 0.0000e+00, 0.0000e+00, 0.0000e+00, 0.0000e+00,\n",
       "         0.0000e+00, 0.0000e+00, 0.0000e+00, 0.0000e+00, 0.0000e+00],\n",
       "        [7.1100e+02, 0.0000e+00, 0.0000e+00, 0.0000e+00, 0.0000e+00,\n",
       "         0.0000e+00, 0.0000e+00, 0.0000e+00, 0.0000e+00, 0.0000e+00,\n",
       "         0.0000e+00, 0.0000e+00, 0.0000e+00, 0.0000e+00, 0.0000e+00,\n",
       "         0.0000e+00, 0.0000e+00, 0.0000e+00, 0.0000e+00, 0.0000e+00],\n",
       "        [7.4000e+02, 0.0000e+00, 0.0000e+00, 0.0000e+00, 0.0000e+00,\n",
       "         0.0000e+00, 0.0000e+00, 0.0000e+00, 0.0000e+00, 0.0000e+00,\n",
       "         0.0000e+00, 0.0000e+00, 0.0000e+00, 0.0000e+00, 0.0000e+00,\n",
       "         0.0000e+00, 0.0000e+00, 0.0000e+00, 0.0000e+00, 0.0000e+00],\n",
       "        [6.5900e+02, 0.0000e+00, 0.0000e+00, 0.0000e+00, 0.0000e+00,\n",
       "         0.0000e+00, 0.0000e+00, 0.0000e+00, 0.0000e+00, 0.0000e+00,\n",
       "         0.0000e+00, 0.0000e+00, 0.0000e+00, 0.0000e+00, 0.0000e+00,\n",
       "         0.0000e+00, 0.0000e+00, 0.0000e+00, 0.0000e+00, 0.0000e+00],\n",
       "        [5.4800e+02, 0.0000e+00, 0.0000e+00, 0.0000e+00, 0.0000e+00,\n",
       "         0.0000e+00, 0.0000e+00, 0.0000e+00, 0.0000e+00, 0.0000e+00,\n",
       "         0.0000e+00, 0.0000e+00, 0.0000e+00, 0.0000e+00, 0.0000e+00,\n",
       "         0.0000e+00, 0.0000e+00, 0.0000e+00, 0.0000e+00, 0.0000e+00],\n",
       "        [5.1100e+02, 0.0000e+00, 0.0000e+00, 0.0000e+00, 0.0000e+00,\n",
       "         0.0000e+00, 0.0000e+00, 0.0000e+00, 0.0000e+00, 0.0000e+00,\n",
       "         0.0000e+00, 0.0000e+00, 0.0000e+00, 0.0000e+00, 0.0000e+00,\n",
       "         0.0000e+00, 0.0000e+00, 0.0000e+00, 0.0000e+00, 0.0000e+00],\n",
       "        [4.3400e+02, 0.0000e+00, 0.0000e+00, 0.0000e+00, 0.0000e+00,\n",
       "         0.0000e+00, 0.0000e+00, 0.0000e+00, 0.0000e+00, 0.0000e+00,\n",
       "         0.0000e+00, 0.0000e+00, 0.0000e+00, 0.0000e+00, 0.0000e+00,\n",
       "         0.0000e+00, 0.0000e+00, 0.0000e+00, 0.0000e+00, 0.0000e+00],\n",
       "        [4.1100e+02, 0.0000e+00, 0.0000e+00, 0.0000e+00, 0.0000e+00,\n",
       "         0.0000e+00, 0.0000e+00, 0.0000e+00, 0.0000e+00, 0.0000e+00,\n",
       "         0.0000e+00, 0.0000e+00, 0.0000e+00, 0.0000e+00, 0.0000e+00,\n",
       "         0.0000e+00, 0.0000e+00, 0.0000e+00, 0.0000e+00, 0.0000e+00],\n",
       "        [3.3900e+02, 0.0000e+00, 0.0000e+00, 0.0000e+00, 0.0000e+00,\n",
       "         0.0000e+00, 0.0000e+00, 0.0000e+00, 0.0000e+00, 0.0000e+00,\n",
       "         0.0000e+00, 0.0000e+00, 0.0000e+00, 0.0000e+00, 0.0000e+00,\n",
       "         0.0000e+00, 0.0000e+00, 0.0000e+00, 0.0000e+00, 0.0000e+00],\n",
       "        [3.3500e+02, 0.0000e+00, 0.0000e+00, 0.0000e+00, 0.0000e+00,\n",
       "         0.0000e+00, 0.0000e+00, 0.0000e+00, 0.0000e+00, 0.0000e+00,\n",
       "         0.0000e+00, 0.0000e+00, 0.0000e+00, 0.0000e+00, 0.0000e+00,\n",
       "         0.0000e+00, 0.0000e+00, 0.0000e+00, 0.0000e+00, 0.0000e+00],\n",
       "        [2.7600e+02, 0.0000e+00, 0.0000e+00, 0.0000e+00, 0.0000e+00,\n",
       "         0.0000e+00, 0.0000e+00, 0.0000e+00, 0.0000e+00, 0.0000e+00,\n",
       "         0.0000e+00, 0.0000e+00, 0.0000e+00, 0.0000e+00, 0.0000e+00,\n",
       "         0.0000e+00, 0.0000e+00, 0.0000e+00, 0.0000e+00, 0.0000e+00],\n",
       "        [2.5600e+02, 0.0000e+00, 0.0000e+00, 0.0000e+00, 0.0000e+00,\n",
       "         0.0000e+00, 0.0000e+00, 0.0000e+00, 0.0000e+00, 0.0000e+00,\n",
       "         0.0000e+00, 0.0000e+00, 0.0000e+00, 0.0000e+00, 0.0000e+00,\n",
       "         0.0000e+00, 0.0000e+00, 0.0000e+00, 0.0000e+00, 0.0000e+00],\n",
       "        [2.2300e+02, 0.0000e+00, 0.0000e+00, 0.0000e+00, 0.0000e+00,\n",
       "         0.0000e+00, 0.0000e+00, 0.0000e+00, 0.0000e+00, 0.0000e+00,\n",
       "         0.0000e+00, 0.0000e+00, 0.0000e+00, 0.0000e+00, 0.0000e+00,\n",
       "         0.0000e+00, 0.0000e+00, 0.0000e+00, 0.0000e+00, 0.0000e+00],\n",
       "        [1.9100e+02, 0.0000e+00, 0.0000e+00, 0.0000e+00, 0.0000e+00,\n",
       "         0.0000e+00, 0.0000e+00, 0.0000e+00, 0.0000e+00, 0.0000e+00,\n",
       "         0.0000e+00, 0.0000e+00, 0.0000e+00, 0.0000e+00, 0.0000e+00,\n",
       "         0.0000e+00, 0.0000e+00, 0.0000e+00, 0.0000e+00, 0.0000e+00]]),\n",
       " array([-10. ,  -4.5,   1. ,   6.5,  12. ,  17.5,  23. ,  28.5,  34. ,\n",
       "         39.5,  45. ,  50.5,  56. ,  61.5,  67. ,  72.5,  78. ,  83.5,\n",
       "         89. ,  94.5, 100. ]),\n",
       " array([-10. ,  -4.5,   1. ,   6.5,  12. ,  17.5,  23. ,  28.5,  34. ,\n",
       "         39.5,  45. ,  50.5,  56. ,  61.5,  67. ,  72.5,  78. ,  83.5,\n",
       "         89. ,  94.5, 100. ]),\n",
       " <matplotlib.collections.QuadMesh at 0x7fd8160cfc70>)"
      ]
     },
     "execution_count": 204,
     "metadata": {},
     "output_type": "execute_result"
    },
    {
     "data": {
      "image/png": "[encoded data removed]",
      "text/plain": [
       "<Figure size 720x720 with 1 Axes>"
      ]
     },
     "metadata": {
      "needs_background": "light"
     },
     "output_type": "display_data"
    }
   ],
   "source": [
    "plt.hist2d(ak.to_numpy(pt[:,0]), ak.to_numpy(pt[:,1]), bins=20, range=((-10,100), (-10.,100)), norm=LogNorm())"
   ]
  },
  {
   "cell_type": "code",
   "execution_count": null,
   "id": "a36357f9-7440-4b8c-a5e4-2ca9b8edcbb9",
   "metadata": {},
   "outputs": [],
   "source": []
  }
 ],
 "metadata": {
  "kernelspec": {
   "display_name": "Python 3 (ipykernel)",
   "language": "python",
   "name": "python3"
  },
  "language_info": {
   "codemirror_mode": {
    "name": "ipython",
    "version": 3
   },
   "file_extension": ".py",
   "mimetype": "text/x-python",
   "name": "python",
   "nbconvert_exporter": "python",
   "pygments_lexer": "ipython3",
   "version": "3.10.5"
  }
 },
 "nbformat": 4,
 "nbformat_minor": 5
}
